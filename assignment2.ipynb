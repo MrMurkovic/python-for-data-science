{
 "cells": [
  {
   "metadata": {},
   "cell_type": "markdown",
   "source": [
    "# Assignment 2: NumPy\n",
    "- **you will learn:** how to create and manipulate NumPy arrays, perform vectorized computations, and use basic NumPy functions for data analysis\n",
    "- **task:**  See section 2.9 below\n",
    "- **deadline:** 20.10.2025\n",
    "- [NumPy documentation](https://numpy.org/doc/stable/)\n",
    "- 📝 **Reminder:** Sync your GitHub repository with the main course repository, update your project in PyCharm, and after completing the assignment, commit and push your changes back to GitHub.\n",
    "---"
   ],
   "id": "d9f3166f05eb5272"
  },
  {
   "metadata": {},
   "cell_type": "markdown",
   "source": [
    "## 2.0 PEP 8 and Code Commenting\n",
    "\n",
    "### What is PEP 8?\n",
    "**PEP 8** is the official **style guide** for Python code.\n",
    "It defines conventions that make your code **clean, consistent, and easy to read**.\n",
    "While not mandatory, following PEP 8 is considered a sign of **professional and readable coding**.\n",
    "\n",
    "### Some Important PEP 8 Rules\n",
    "- ✅ **Line length:** keep lines **under 79 characters**.\n",
    "- ✅ **Spacing:**\n",
    "  - add spaces around operators (`a + b`, not `a+b`)\n",
    "  - add a space **after** commas, not before (`[1, 2, 3]`, not `[1 ,2 ,3]`)\n",
    "- ✅ **Variable and function names:** use lowercase with underscores (`calculate_mean`, not `CalculateMean`).\n",
    "- ✅ **Class names:** use `CamelCase` (`DataProcessor`).\n",
    "- ✅ **Imports:** at the top of the file, one per line.\n",
    "- ✅ **Blank lines:** use two blank lines between functions.\n",
    "\n",
    " **Official guide:** [PEP 8 – Style Guide for Python Code](https://peps.python.org/pep-0008/)\n",
    "\n",
    "### Comments and Docstrings\n",
    "Comments explain **what** your code does and **why**.\n",
    "Every function should include a **docstring** — a text enclosed in triple quotes `\"\"\" ... \"\"\"` that briefly describes the function’s purpose, parameters, and return value.\n",
    "\n",
    "#### Example:\n",
    "\n",
    "```python\n",
    "def calculate_mean(values):\n",
    "    \"\"\"\n",
    "    Compute the arithmetic mean of a list of numbers.\n",
    "\n",
    "    Parameters\n",
    "    ----------\n",
    "    values : list of float\n",
    "        Input numbers.\n",
    "\n",
    "    Returns\n",
    "    -------\n",
    "    float\n",
    "        The arithmetic mean of the input values.\n",
    "    \"\"\"\n",
    "    if not values:\n",
    "        return 0.0\n",
    "    return sum(values) / len(values)\n",
    "\n"
   ],
   "id": "836a39339ef3e1b2"
  },
  {
   "metadata": {},
   "cell_type": "markdown",
   "source": [
    "---\n",
    "## 2.1 What is a NumPy Array?\n",
    "\n",
    "- In computer programming, an **array** is a structure for storing and retrieving data.\n",
    "- They are the foundation for **data science, machine learning, and scientific computing** in Python.\n",
    "- We often visualize an array as a **grid in space**, with each cell storing one element of data.\n",
    "- Arrays can be **1D (vectors), 2D (matrices), or higher-dimensional (tensors)**.\n",
    "\n",
    "Most NumPy arrays have some rules:\n",
    "\n",
    "1. **Homogeneous type:** All elements must be of the same data type.\n",
    "2. **Fixed size:** Once created, the total size cannot change.\n",
    "3. **Rectangular shape:** All rows (in 2D arrays) must have the same number of columns — no jagged arrays.\n",
    "\n",
    "When these conditions are met, NumPy can exploit them to make arrays:\n",
    "\n",
    "- **Faster** (optimized C loops under the hood)\n",
    "- **More memory efficient** (contiguous memory storage)\n",
    "- **More convenient to use** (vectorized operations without explicit loops)"
   ],
   "id": "f639726d8899fde6"
  },
  {
   "metadata": {
    "ExecuteTime": {
     "end_time": "2025-10-19T05:15:49.051309Z",
     "start_time": "2025-10-19T05:15:49.038132Z"
    }
   },
   "cell_type": "code",
   "source": [
    "import numpy as np\n",
    "print(np.__version__)"
   ],
   "id": "f826db36465b85f7",
   "outputs": [
    {
     "name": "stdout",
     "output_type": "stream",
     "text": [
      "2.3.4\n"
     ]
    }
   ],
   "execution_count": 114
  },
  {
   "metadata": {
    "ExecuteTime": {
     "end_time": "2025-10-19T05:15:49.098079Z",
     "start_time": "2025-10-19T05:15:49.087507Z"
    }
   },
   "cell_type": "code",
   "source": [
    "# Create 1D array (vector)\n",
    "vector = np.array([10, 20, 30, 40, 50])\n",
    "print(\"1D array (vector):\", vector)\n",
    "print(\"Shape:\", vector.shape, \"Dtype:\", vector.dtype)\n",
    "\n",
    "# Create 2D array (matrix)\n",
    "matrix = np.array([[1, 2, 3],\n",
    "                   [4, 5, 6],\n",
    "                   [7, 8, 9]])\n",
    "print(\"2D array (matrix):\\n\", matrix)\n",
    "print(\"Shape:\", matrix.shape, \"Dtype:\", matrix.dtype)\n",
    "\n",
    "# Vectorized operation: multiply all elements by 2 or square them\n",
    "matrix2 = 2 * matrix\n",
    "matrix_sq = matrix ** 2\n",
    "print(\"Matrix after multiplying by 2:\\n\", matrix2)\n",
    "print(\"Matrix after squaring by 2:\\n\", matrix_sq)"
   ],
   "id": "9449ad8688854fd7",
   "outputs": [
    {
     "name": "stdout",
     "output_type": "stream",
     "text": [
      "1D array (vector): [10 20 30 40 50]\n",
      "Shape: (5,) Dtype: int64\n",
      "2D array (matrix):\n",
      " [[1 2 3]\n",
      " [4 5 6]\n",
      " [7 8 9]]\n",
      "Shape: (3, 3) Dtype: int64\n",
      "Matrix after multiplying by 2:\n",
      " [[ 2  4  6]\n",
      " [ 8 10 12]\n",
      " [14 16 18]]\n",
      "Matrix after squaring by 2:\n",
      " [[ 1  4  9]\n",
      " [16 25 36]\n",
      " [49 64 81]]\n"
     ]
    }
   ],
   "execution_count": 115
  },
  {
   "metadata": {},
   "cell_type": "markdown",
   "source": [
    "---\n",
    "## 2.2 Constructing arrays\n",
    "\n",
    "There are several mechanisms for creating arrays. Among others:\n",
    "\n",
    "1. **Conversion from other Python structures**\n",
    "   Arrays can be created directly from existing **lists or tuples** using `np.array()`.\n",
    "   This is the most common and straightforward way to build an array from existing data."
   ],
   "id": "eed4398b6b513855"
  },
  {
   "metadata": {
    "ExecuteTime": {
     "end_time": "2025-10-19T05:15:49.150398Z",
     "start_time": "2025-10-19T05:15:49.145042Z"
    }
   },
   "cell_type": "code",
   "source": [
    "# Conversion from Python structures\n",
    "a = np.array([1, 2, 3, 4, 5])\n",
    "b= np.array(((1,0),(0,1)))\n",
    "c = np.array([([1,2],[2,1]), ([3,1],[1,3])])\n",
    "print(\"From list:\\n\", a)\n",
    "print(\"From tuples of tuples:\\n\", b)\n",
    "print(\"From list of tuples or lists:\\n\", c)"
   ],
   "id": "d7ffddc3c7734d22",
   "outputs": [
    {
     "name": "stdout",
     "output_type": "stream",
     "text": [
      "From list:\n",
      " [1 2 3 4 5]\n",
      "From tuples of tuples:\n",
      " [[1 0]\n",
      " [0 1]]\n",
      "From list of tuples or lists:\n",
      " [[[1 2]\n",
      "  [2 1]]\n",
      "\n",
      " [[3 1]\n",
      "  [1 3]]]\n"
     ]
    }
   ],
   "execution_count": 116
  },
  {
   "metadata": {},
   "cell_type": "markdown",
   "source": [
    "\n",
    "2. **NumPy array creation functions**\n",
    "   NumPy provides a set of **built-in constructors** such as `np.zeros`, `np.ones`, `np.arange`, and `np.linspace`\n",
    "   to generate arrays of a specific shape or with evenly spaced values."
   ],
   "id": "f223d4bc6eb455d8"
  },
  {
   "metadata": {
    "ExecuteTime": {
     "end_time": "2025-10-19T05:15:49.200209Z",
     "start_time": "2025-10-19T05:15:49.195824Z"
    }
   },
   "cell_type": "code",
   "source": [
    "# np.empty(shape, dtype)\n",
    "# Creates a new array *without initializing* its entries (values are arbitrary).\n",
    "arr_empty = np.empty((2,3), dtype=\"int32\")\n",
    "print(\"np.empty:\\n\", arr_empty)\n",
    "print(\"np.empty type:\", arr_empty.dtype)"
   ],
   "id": "d78709e6b0134289",
   "outputs": [
    {
     "name": "stdout",
     "output_type": "stream",
     "text": [
      "np.empty:\n",
      " [[ -927712936  1072938614 -1580547965]\n",
      " [ 1075230277  1628651599 -1071500349]]\n",
      "np.empty type: int32\n"
     ]
    }
   ],
   "execution_count": 117
  },
  {
   "metadata": {
    "ExecuteTime": {
     "end_time": "2025-10-19T05:15:49.248443Z",
     "start_time": "2025-10-19T05:15:49.242777Z"
    }
   },
   "cell_type": "code",
   "source": [
    "# np.identity(n)\n",
    "# Shortcut for creating a square identity matrix (ones on the main diagonal).\n",
    "arr_identity = np.identity(4)\n",
    "print(\"np.identity:\\n\", arr_identity)"
   ],
   "id": "fdd3dead89dab21f",
   "outputs": [
    {
     "name": "stdout",
     "output_type": "stream",
     "text": [
      "np.identity:\n",
      " [[1. 0. 0. 0.]\n",
      " [0. 1. 0. 0.]\n",
      " [0. 0. 1. 0.]\n",
      " [0. 0. 0. 1.]]\n"
     ]
    }
   ],
   "execution_count": 118
  },
  {
   "metadata": {
    "ExecuteTime": {
     "end_time": "2025-10-19T05:15:49.294944Z",
     "start_time": "2025-10-19T05:15:49.289800Z"
    }
   },
   "cell_type": "code",
   "source": [
    "# np.eye(N, M, k)\n",
    "# Creates a 2D array with ones on the main (or k-th) diagonal, zeros elsewhere.\n",
    "arr_eye = np.eye(4,4,-1)\n",
    "print(\"np.eye:\\n\", arr_eye)"
   ],
   "id": "7e9e5f7a324496d6",
   "outputs": [
    {
     "name": "stdout",
     "output_type": "stream",
     "text": [
      "np.eye:\n",
      " [[0. 0. 0. 0.]\n",
      " [1. 0. 0. 0.]\n",
      " [0. 1. 0. 0.]\n",
      " [0. 0. 1. 0.]]\n"
     ]
    }
   ],
   "execution_count": 119
  },
  {
   "metadata": {
    "ExecuteTime": {
     "end_time": "2025-10-19T05:15:49.341901Z",
     "start_time": "2025-10-19T05:15:49.338177Z"
    }
   },
   "cell_type": "code",
   "source": [
    "# np.ones(shape, dtype)\n",
    "# Creates an array of given shape filled with ones.\n",
    "arr_ones = np.ones((2, 4))\n",
    "print(\"np.ones:\\n\", arr_ones)"
   ],
   "id": "ecc36a2338ff3c43",
   "outputs": [
    {
     "name": "stdout",
     "output_type": "stream",
     "text": [
      "np.ones:\n",
      " [[1. 1. 1. 1.]\n",
      " [1. 1. 1. 1.]]\n"
     ]
    }
   ],
   "execution_count": 120
  },
  {
   "metadata": {
    "ExecuteTime": {
     "end_time": "2025-10-19T05:15:49.388759Z",
     "start_time": "2025-10-19T05:15:49.384879Z"
    }
   },
   "cell_type": "code",
   "source": [
    "# np.zeros(shape, dtype)\n",
    "# Creates an array filled with zeros.\n",
    "arr_zeros = np.zeros((3, 3))\n",
    "print(\"np.zeros:\\n\", arr_zeros)"
   ],
   "id": "34c08c3a6fb6ac86",
   "outputs": [
    {
     "name": "stdout",
     "output_type": "stream",
     "text": [
      "np.zeros:\n",
      " [[0. 0. 0.]\n",
      " [0. 0. 0.]\n",
      " [0. 0. 0.]]\n"
     ]
    }
   ],
   "execution_count": 121
  },
  {
   "metadata": {
    "ExecuteTime": {
     "end_time": "2025-10-19T05:15:49.434581Z",
     "start_time": "2025-10-19T05:15:49.430688Z"
    }
   },
   "cell_type": "code",
   "source": [
    "# np.full(shape, fill_value)\n",
    "# Creates an array filled with a specified constant value.\n",
    "arr_full = np.full((2, 3), fill_value=7)\n",
    "print(\"np.full:\\n\", arr_full)"
   ],
   "id": "6e109336811c8e5b",
   "outputs": [
    {
     "name": "stdout",
     "output_type": "stream",
     "text": [
      "np.full:\n",
      " [[7 7 7]\n",
      " [7 7 7]]\n"
     ]
    }
   ],
   "execution_count": 122
  },
  {
   "metadata": {
    "ExecuteTime": {
     "end_time": "2025-10-19T05:15:49.472406Z",
     "start_time": "2025-10-19T05:15:49.467425Z"
    }
   },
   "cell_type": "code",
   "source": [
    "# np.empty_like(prototype)\n",
    "# Creates an uninitialized array with the *same shape and dtype* as another array.\n",
    "prototype = np.array([[1, 2, 3], [4, 5, 6]], dtype=float)\n",
    "arr_zeros_like = np.zeros_like(prototype)\n",
    "print(\"np.empty_like:\\n\", arr_zeros_like)\n",
    "\n",
    "# Similarly with np.empty_like(a), np.zeros_like(a), np.full_like(a, fill_value)"
   ],
   "id": "73371815235e17fc",
   "outputs": [
    {
     "name": "stdout",
     "output_type": "stream",
     "text": [
      "np.empty_like:\n",
      " [[0. 0. 0.]\n",
      " [0. 0. 0.]]\n"
     ]
    }
   ],
   "execution_count": 123
  },
  {
   "metadata": {
    "ExecuteTime": {
     "end_time": "2025-10-19T05:15:49.512111Z",
     "start_time": "2025-10-19T05:15:49.507437Z"
    }
   },
   "cell_type": "code",
   "source": [
    "# np.arange([start,] stop[, step,][, dtype])\n",
    "# Returns evenly spaced values within a given interval.\n",
    "# Similar to Python's range(), but returns a NumPy array.\n",
    "arr_arange = np.arange(0, 10, 2, dtype=float)\n",
    "print(\"np.arange:\\n\", arr_arange)"
   ],
   "id": "669f79b46b4739ed",
   "outputs": [
    {
     "name": "stdout",
     "output_type": "stream",
     "text": [
      "np.arange:\n",
      " [0. 2. 4. 6. 8.]\n"
     ]
    }
   ],
   "execution_count": 124
  },
  {
   "metadata": {
    "ExecuteTime": {
     "end_time": "2025-10-19T05:15:49.558534Z",
     "start_time": "2025-10-19T05:15:49.553520Z"
    }
   },
   "cell_type": "code",
   "source": [
    "# np.linspace(start, stop[, num, endpoint])\n",
    "# Returns evenly spaced numbers over a specified interval.\n",
    "# Unlike arange, it lets you specify the number of samples.\n",
    "arr_linspace = np.linspace(0, 1, num=5)\n",
    "print(\"np.linspace:\\n\", arr_linspace)"
   ],
   "id": "14a81938b4951f3e",
   "outputs": [
    {
     "name": "stdout",
     "output_type": "stream",
     "text": [
      "np.linspace:\n",
      " [0.   0.25 0.5  0.75 1.  ]\n"
     ]
    }
   ],
   "execution_count": 125
  },
  {
   "metadata": {
    "ExecuteTime": {
     "end_time": "2025-10-19T05:15:49.603737Z",
     "start_time": "2025-10-19T05:15:49.599626Z"
    }
   },
   "cell_type": "code",
   "source": [
    "# np.diag(v[, k])\n",
    "# Construct a diagonal matrix from a 1D array, or extract a diagonal from a 2D array.\n",
    "v = np.array([1, 2, 3])\n",
    "arr_diag = np.diag(v)\n",
    "print(\"np.diag (construct from 1D):\\n\", arr_diag)"
   ],
   "id": "ce6247233767b152",
   "outputs": [
    {
     "name": "stdout",
     "output_type": "stream",
     "text": [
      "np.diag (construct from 1D):\n",
      " [[1 0 0]\n",
      " [0 2 0]\n",
      " [0 0 3]]\n"
     ]
    }
   ],
   "execution_count": 126
  },
  {
   "metadata": {
    "ExecuteTime": {
     "end_time": "2025-10-19T05:15:49.662495Z",
     "start_time": "2025-10-19T05:15:49.657588Z"
    }
   },
   "cell_type": "code",
   "source": [
    "# np.tril(m[, k])\n",
    "# Return the lower triangle of an array (elements above the k-th diagonal are zeroed).\n",
    "m = np.arange(1, 10).reshape(3, 3)\n",
    "arr_tril = np.tril(m)\n",
    "print(\"np.tril (lower triangle):\\n\", arr_tril)\n",
    "\n",
    "# similarly with np.triu(m[, k])"
   ],
   "id": "390f928f5621792f",
   "outputs": [
    {
     "name": "stdout",
     "output_type": "stream",
     "text": [
      "np.tril (lower triangle):\n",
      " [[1 0 0]\n",
      " [4 5 0]\n",
      " [7 8 9]]\n"
     ]
    }
   ],
   "execution_count": 127
  },
  {
   "metadata": {},
   "cell_type": "markdown",
   "source": [
    "\n",
    "3. **Replicating, joining, or mutating existing arrays**\n",
    "   Arrays can be **copied, concatenated, reshaped, or repeated** to create new ones.\n",
    "   For example, you can use `np.tile`, `np.concatenate`, or `reshape` for this purpose."
   ],
   "id": "560d0852690389d5"
  },
  {
   "metadata": {
    "ExecuteTime": {
     "end_time": "2025-10-19T05:15:49.709247Z",
     "start_time": "2025-10-19T05:15:49.705162Z"
    }
   },
   "cell_type": "code",
   "source": [
    "# np.reshape(a, newshape)\n",
    "# Changes the shape of an array without changing its data.\n",
    "a = np.arange(6)\n",
    "print(\"a:\\n\", a)\n",
    "reshaped = np.reshape(a, (3, 2))\n",
    "print(\"np.reshape:\\n\", reshaped)"
   ],
   "id": "6c72643ec73f7a04",
   "outputs": [
    {
     "name": "stdout",
     "output_type": "stream",
     "text": [
      "a:\n",
      " [0 1 2 3 4 5]\n",
      "np.reshape:\n",
      " [[0 1]\n",
      " [2 3]\n",
      " [4 5]]\n"
     ]
    }
   ],
   "execution_count": 128
  },
  {
   "metadata": {
    "ExecuteTime": {
     "end_time": "2025-10-19T05:15:49.759745Z",
     "start_time": "2025-10-19T05:15:49.755562Z"
    }
   },
   "cell_type": "code",
   "source": [
    "# a.flatten()\n",
    "# Flatten a multi-dimensional array into 1D.\n",
    "a2 = np.array([[1, 2], [3, 4]])\n",
    "print(\"a.flatten:\\n\", a2.flatten())"
   ],
   "id": "6f52ce66226a0913",
   "outputs": [
    {
     "name": "stdout",
     "output_type": "stream",
     "text": [
      "a.flatten:\n",
      " [1 2 3 4]\n"
     ]
    }
   ],
   "execution_count": 129
  },
  {
   "metadata": {
    "ExecuteTime": {
     "end_time": "2025-10-19T05:15:49.808880Z",
     "start_time": "2025-10-19T05:15:49.804681Z"
    }
   },
   "cell_type": "code",
   "source": [
    "# np.transpose(a) or a.T\n",
    "# Swaps axes, e.g., turns rows into columns.\n",
    "print(\"np.transpose:\\n\", np.transpose(a2))"
   ],
   "id": "12969da6ffbdfd26",
   "outputs": [
    {
     "name": "stdout",
     "output_type": "stream",
     "text": [
      "np.transpose:\n",
      " [[1 3]\n",
      " [2 4]]\n"
     ]
    }
   ],
   "execution_count": 130
  },
  {
   "metadata": {
    "ExecuteTime": {
     "end_time": "2025-10-19T05:15:49.863507Z",
     "start_time": "2025-10-19T05:15:49.859333Z"
    }
   },
   "cell_type": "code",
   "source": [
    "# np.swapaxes(a, axis1, axis2)\n",
    "# Swaps any two axes in a multi-dimensional array.\n",
    "a3 = np.arange(8).reshape(2, 2, 2)\n",
    "print(\"a3:\\n\", a3)\n",
    "print(\"np.swapaxes:\\n\", np.swapaxes(a3, 0, 2))"
   ],
   "id": "a511179c3330353f",
   "outputs": [
    {
     "name": "stdout",
     "output_type": "stream",
     "text": [
      "a3:\n",
      " [[[0 1]\n",
      "  [2 3]]\n",
      "\n",
      " [[4 5]\n",
      "  [6 7]]]\n",
      "np.swapaxes:\n",
      " [[[0 4]\n",
      "  [2 6]]\n",
      "\n",
      " [[1 5]\n",
      "  [3 7]]]\n"
     ]
    }
   ],
   "execution_count": 131
  },
  {
   "metadata": {
    "ExecuteTime": {
     "end_time": "2025-10-19T05:15:49.925649Z",
     "start_time": "2025-10-19T05:15:49.921129Z"
    }
   },
   "cell_type": "code",
   "source": [
    "# np.moveaxis(a, source, destination)\n",
    "# Moves a given axis to a new position.\n",
    "a4 = np.zeros((2, 3, 4))\n",
    "print(\"np.moveaxis shape:\", np.moveaxis(a4, 0, -1).shape)"
   ],
   "id": "1416a8532833229c",
   "outputs": [
    {
     "name": "stdout",
     "output_type": "stream",
     "text": [
      "np.moveaxis shape: (3, 4, 2)\n"
     ]
    }
   ],
   "execution_count": 132
  },
  {
   "metadata": {
    "ExecuteTime": {
     "end_time": "2025-10-19T05:15:49.976356Z",
     "start_time": "2025-10-19T05:15:49.971995Z"
    }
   },
   "cell_type": "code",
   "source": [
    "# np.squeeze(a)\n",
    "# Removes axes of length 1.\n",
    "a5 = np.zeros((1, 3, 1))\n",
    "print(\"a5:\\n\", a5)\n",
    "print(\"np.squeeze shape:\", np.squeeze(a5).shape)\n",
    "print(\"a5 squeezed:\\n\", np.squeeze(a5))"
   ],
   "id": "fe89ddd4c223e40e",
   "outputs": [
    {
     "name": "stdout",
     "output_type": "stream",
     "text": [
      "a5:\n",
      " [[[0.]\n",
      "  [0.]\n",
      "  [0.]]]\n",
      "np.squeeze shape: (3,)\n",
      "a5 squeezed:\n",
      " [0. 0. 0.]\n"
     ]
    }
   ],
   "execution_count": 133
  },
  {
   "metadata": {
    "ExecuteTime": {
     "end_time": "2025-10-19T05:15:50.027792Z",
     "start_time": "2025-10-19T05:15:50.022338Z"
    }
   },
   "cell_type": "code",
   "source": [
    "# np.expand_dims(a, axis)\n",
    "# Adds a new dimension (axis) to the array.\n",
    "a6 = np.array([1, 2, 3])\n",
    "print(\"np.expand_dims shape:\", np.expand_dims(a6, axis=0).shape)"
   ],
   "id": "3291832f447d37aa",
   "outputs": [
    {
     "name": "stdout",
     "output_type": "stream",
     "text": [
      "np.expand_dims shape: (1, 3)\n"
     ]
    }
   ],
   "execution_count": 134
  },
  {
   "metadata": {
    "ExecuteTime": {
     "end_time": "2025-10-19T05:15:50.078878Z",
     "start_time": "2025-10-19T05:15:50.074317Z"
    }
   },
   "cell_type": "code",
   "source": [
    "# np.concatenate((a1, a2, ...), axis)\n",
    "# Joins arrays along an existing axis.\n",
    "a7 = np.ones((2, 2))\n",
    "b7 = np.zeros((2, 2))\n",
    "print(\"np.concatenate:\\n\", np.concatenate((a7, b7), axis=1))"
   ],
   "id": "dfa0170e423b6c06",
   "outputs": [
    {
     "name": "stdout",
     "output_type": "stream",
     "text": [
      "np.concatenate:\n",
      " [[1. 1. 0. 0.]\n",
      " [1. 1. 0. 0.]]\n"
     ]
    }
   ],
   "execution_count": 135
  },
  {
   "metadata": {
    "ExecuteTime": {
     "end_time": "2025-10-19T05:15:50.128211Z",
     "start_time": "2025-10-19T05:15:50.123938Z"
    }
   },
   "cell_type": "code",
   "source": [
    "# np.stack((a1, a2, ...), axis)\n",
    "# Stacks arrays along a new axis.\n",
    "a8 = np.array([1, 2])\n",
    "b8 = np.array([3, 4])\n",
    "print(\"np.stack:\\n\", np.stack((a8, b8), axis=0))"
   ],
   "id": "afdff07c876803b3",
   "outputs": [
    {
     "name": "stdout",
     "output_type": "stream",
     "text": [
      "np.stack:\n",
      " [[1 2]\n",
      " [3 4]]\n"
     ]
    }
   ],
   "execution_count": 136
  },
  {
   "metadata": {
    "ExecuteTime": {
     "end_time": "2025-10-19T05:15:50.200717Z",
     "start_time": "2025-10-19T05:15:50.196382Z"
    }
   },
   "cell_type": "code",
   "source": [
    "# np.split(a, sections, axis)\n",
    "# Splits an array into multiple subarrays.\n",
    "x = np.arange(9)\n",
    "print(\"np.split:\\n\", np.split(x, 3))"
   ],
   "id": "7e1969d2c8e3e536",
   "outputs": [
    {
     "name": "stdout",
     "output_type": "stream",
     "text": [
      "np.split:\n",
      " [array([0, 1, 2]), array([3, 4, 5]), array([6, 7, 8])]\n"
     ]
    }
   ],
   "execution_count": 137
  },
  {
   "metadata": {
    "ExecuteTime": {
     "end_time": "2025-10-19T05:15:50.256698Z",
     "start_time": "2025-10-19T05:15:50.252029Z"
    }
   },
   "cell_type": "code",
   "source": [
    "# np.copy(a)\n",
    "# Creates a deep copy of the array (independent of the original).\n",
    "a11 = np.array([1, 2, 3])\n",
    "b11 = a11.copy()\n",
    "b11[0] = 99\n",
    "print(\"Original:\", a11, \" | Copy:\", b11)"
   ],
   "id": "549f87be717e0c68",
   "outputs": [
    {
     "name": "stdout",
     "output_type": "stream",
     "text": [
      "Original: [1 2 3]  | Copy: [99  2  3]\n"
     ]
    }
   ],
   "execution_count": 138
  },
  {
   "metadata": {
    "ExecuteTime": {
     "end_time": "2025-10-19T05:15:50.309460Z",
     "start_time": "2025-10-19T05:15:50.305920Z"
    }
   },
   "cell_type": "code",
   "source": [
    "# np.astype(dtype)\n",
    "# Converts array elements to a new type.\n",
    "a12 = np.array([1, 2, 3])\n",
    "print(\"astype to float:\\n\", a12.astype(float))"
   ],
   "id": "a6e2fbe50a50b41e",
   "outputs": [
    {
     "name": "stdout",
     "output_type": "stream",
     "text": [
      "astype to float:\n",
      " [1. 2. 3.]\n"
     ]
    }
   ],
   "execution_count": 139
  },
  {
   "metadata": {
    "ExecuteTime": {
     "end_time": "2025-10-19T05:15:50.372991Z",
     "start_time": "2025-10-19T05:15:50.368446Z"
    }
   },
   "cell_type": "code",
   "source": [
    "# np.clip(a, min, max)\n",
    "# Limits values to a given range.\n",
    "a13 = np.array([-1, 0, 2, 5])\n",
    "print(\"np.clip:\\n\", np.clip(a13, 0, 3))"
   ],
   "id": "2a265507d63f840",
   "outputs": [
    {
     "name": "stdout",
     "output_type": "stream",
     "text": [
      "np.clip:\n",
      " [0 0 2 3]\n"
     ]
    }
   ],
   "execution_count": 140
  },
  {
   "metadata": {
    "ExecuteTime": {
     "end_time": "2025-10-19T05:15:50.426270Z",
     "start_time": "2025-10-19T05:15:50.421553Z"
    }
   },
   "cell_type": "code",
   "source": [
    "# np.where(condition, x, y)\n",
    "# Selects elements based on a condition.\n",
    "a14 = np.array([1, 2, 3])\n",
    "print(\"np.where (a > 1 -> 100):\\n\", np.where(a14 > 1, 100, a14))"
   ],
   "id": "655944d6ee5d49c7",
   "outputs": [
    {
     "name": "stdout",
     "output_type": "stream",
     "text": [
      "np.where (a > 1 -> 100):\n",
      " [  1 100 100]\n"
     ]
    }
   ],
   "execution_count": 141
  },
  {
   "metadata": {},
   "cell_type": "markdown",
   "source": [
    "\n",
    "4. **Creating Arrays from Other Libraries**\n",
    "\n",
    "Many Python libraries — such as **SciPy**, **Pandas**, and **OpenCV** — use NumPy `ndarray` objects as a **common format for data exchange**.\n",
    "These libraries can **create**, **manipulate**, and **interoperate with** NumPy arrays directly.\n"
   ],
   "id": "a39594507e1a836a"
  },
  {
   "metadata": {},
   "cell_type": "markdown",
   "source": [
    "---\n",
    "## 2.3 Indexing arrays"
   ],
   "id": "c095658cbed35428"
  },
  {
   "metadata": {},
   "cell_type": "markdown",
   "source": "Note that Python indexes (unlike for example R) start from 0, not from 1.",
   "id": "af057b561b906e05"
  },
  {
   "metadata": {},
   "cell_type": "markdown",
   "source": "### Basic Indexing",
   "id": "395343aaf26987ba"
  },
  {
   "metadata": {
    "ExecuteTime": {
     "end_time": "2025-10-19T05:15:50.473369Z",
     "start_time": "2025-10-19T05:15:50.469543Z"
    }
   },
   "cell_type": "code",
   "source": [
    "# Create a 2D array for demonstration\n",
    "x = np.arange(1, 13).reshape(3, 4)\n",
    "print(\"Array x:\\n\", x)\n",
    "\n",
    "# 1. Single element indexing\n",
    "print(\"Single element x[1, 2]:\", x[1, 2])\n",
    "print(\"Same by chained indexing x[1][2]:\", x[1][2])"
   ],
   "id": "fe588aaa2cb62ffc",
   "outputs": [
    {
     "name": "stdout",
     "output_type": "stream",
     "text": [
      "Array x:\n",
      " [[ 1  2  3  4]\n",
      " [ 5  6  7  8]\n",
      " [ 9 10 11 12]]\n",
      "Single element x[1, 2]: 7\n",
      "Same by chained indexing x[1][2]: 7\n"
     ]
    }
   ],
   "execution_count": 142
  },
  {
   "metadata": {
    "ExecuteTime": {
     "end_time": "2025-10-19T05:15:50.537325Z",
     "start_time": "2025-10-19T05:15:50.533685Z"
    }
   },
   "cell_type": "code",
   "source": [
    "# 2. If fewer indices than dimensions, returns a subarray (view)\n",
    "print(\"x[0] returns first row (view):\", x[0])"
   ],
   "id": "7615f519beb291a1",
   "outputs": [
    {
     "name": "stdout",
     "output_type": "stream",
     "text": [
      "x[0] returns first row (view): [1 2 3 4]\n"
     ]
    }
   ],
   "execution_count": 143
  },
  {
   "metadata": {
    "ExecuteTime": {
     "end_time": "2025-10-19T05:15:50.576447Z",
     "start_time": "2025-10-19T05:15:50.572460Z"
    }
   },
   "cell_type": "code",
   "source": [
    "# 3. Slicing (rows, columns)\n",
    "print(\"x[0:2, 1:4] → rows 0 and 1, columns 1 to 3:\\n\", x[0:2, 1:4])"
   ],
   "id": "b6f293c0cdc6bd7f",
   "outputs": [
    {
     "name": "stdout",
     "output_type": "stream",
     "text": [
      "x[0:2, 1:4] → rows 0 and 1, columns 1 to 3:\n",
      " [[2 3 4]\n",
      " [6 7 8]]\n"
     ]
    }
   ],
   "execution_count": 144
  },
  {
   "metadata": {
    "ExecuteTime": {
     "end_time": "2025-10-19T05:15:50.627047Z",
     "start_time": "2025-10-19T05:15:50.623904Z"
    }
   },
   "cell_type": "code",
   "source": [
    "# 4. Striding with step (convention start:stop:step)\n",
    "print(\"x[:, ::2] → all rows, every second column:\\n\", x[:, ::2])"
   ],
   "id": "a3e44e2fbf01de17",
   "outputs": [
    {
     "name": "stdout",
     "output_type": "stream",
     "text": [
      "x[:, ::2] → all rows, every second column:\n",
      " [[ 1  3]\n",
      " [ 5  7]\n",
      " [ 9 11]]\n"
     ]
    }
   ],
   "execution_count": 145
  },
  {
   "metadata": {
    "ExecuteTime": {
     "end_time": "2025-10-19T05:15:50.676602Z",
     "start_time": "2025-10-19T05:15:50.673122Z"
    }
   },
   "cell_type": "code",
   "source": [
    "# 5. Using negative indices\n",
    "print(\"x[-1, -2]:\", x[-1, -2])  # last row, second-last column"
   ],
   "id": "98c46369ed246a0b",
   "outputs": [
    {
     "name": "stdout",
     "output_type": "stream",
     "text": [
      "x[-1, -2]: 11\n"
     ]
    }
   ],
   "execution_count": 146
  },
  {
   "metadata": {
    "ExecuteTime": {
     "end_time": "2025-10-19T05:15:50.730406Z",
     "start_time": "2025-10-19T05:15:50.725882Z"
    }
   },
   "cell_type": "code",
   "source": [
    "# 6. Ellipsis (`...`) and `newaxis` (alias None)\n",
    "# Ellipsis expands to as many \":\" as needed\n",
    "print(\"x[..., 2] → same as x[:, 2]:\", x[..., 2])\n",
    "\n",
    "# newaxis introduces a new dimension\n",
    "y = x[:, 1]  # shape (3,)\n",
    "y2 = x[:, 1, np.newaxis]  # shape (3,1)\n",
    "print(\"y shape:\", y.shape, \"   y2 shape:\", y2.shape)"
   ],
   "id": "5c07e59fccda7397",
   "outputs": [
    {
     "name": "stdout",
     "output_type": "stream",
     "text": [
      "x[..., 2] → same as x[:, 2]: [ 3  7 11]\n",
      "y shape: (3,)    y2 shape: (3, 1)\n"
     ]
    }
   ],
   "execution_count": 147
  },
  {
   "metadata": {},
   "cell_type": "markdown",
   "source": [
    "- All slicing operations produce views, not copies — they refer to the same underlying data.\n",
    "- Because of this, modifying a slice will affect the original array.\n",
    "- When using integer indexing (not slicing), you reduce a dimension.\n",
    "- : means “select all elements along this axis”.\n",
    "- ... is a convenient placeholder to fill in missing : for remaining axes."
   ],
   "id": "7c9700d74a9d0ca6"
  },
  {
   "metadata": {},
   "cell_type": "markdown",
   "source": "### Advanced Indexing",
   "id": "6badd678ca258696"
  },
  {
   "metadata": {
    "ExecuteTime": {
     "end_time": "2025-10-19T05:15:50.779276Z",
     "start_time": "2025-10-19T05:15:50.774132Z"
    }
   },
   "cell_type": "code",
   "source": [
    "x = np.arange(1, 13).reshape(3, 4)\n",
    "print(\"Array x:\\n\", x)\n",
    "\n",
    "# 1. Integer array indexing\n",
    "row_idx = [0, 2]\n",
    "col_idx = [1, 3]\n",
    "# Select elements (0,1) and (2,3)\n",
    "print(\"x[row_idx, col_idx]:\", x[row_idx, col_idx])\n",
    "\n",
    "# Equivalent as\n",
    "print(\"The same as:\", np.array([x[0,1],x[2,3]]))"
   ],
   "id": "dfd44a3583fe9b5d",
   "outputs": [
    {
     "name": "stdout",
     "output_type": "stream",
     "text": [
      "Array x:\n",
      " [[ 1  2  3  4]\n",
      " [ 5  6  7  8]\n",
      " [ 9 10 11 12]]\n",
      "x[row_idx, col_idx]: [ 2 12]\n",
      "The same as: [ 2 12]\n"
     ]
    }
   ],
   "execution_count": 148
  },
  {
   "metadata": {
    "ExecuteTime": {
     "end_time": "2025-10-19T05:15:50.839290Z",
     "start_time": "2025-10-19T05:15:50.835217Z"
    }
   },
   "cell_type": "code",
   "source": [
    "# 2. Broadcasting integer indices\n",
    "# If you supply fewer index arrays or scalars, they broadcast\n",
    "print(\"x[row_idx, 2]:\", x[row_idx, 2])\n",
    "print(\"The same as:\", x[[0,2], [2,2]])"
   ],
   "id": "2e01282e7b2dc228",
   "outputs": [
    {
     "name": "stdout",
     "output_type": "stream",
     "text": [
      "x[row_idx, 2]: [ 3 11]\n",
      "The same as: [ 3 11]\n"
     ]
    }
   ],
   "execution_count": 149
  },
  {
   "metadata": {
    "ExecuteTime": {
     "end_time": "2025-10-19T05:15:50.887536Z",
     "start_time": "2025-10-19T05:15:50.882524Z"
    }
   },
   "cell_type": "code",
   "source": [
    "# 3. Boolean masking (Boolean indexing)\n",
    "mask = x % 2 == 0  # True for even numbers\n",
    "print(\"Boolean mask:\\n\", mask)\n",
    "print(\"x[mask] → all even elements:\", x[mask])\n",
    "\n",
    "# Example modification using Boolean mask\n",
    "x2 = x.copy()\n",
    "x2[x2 % 2 == 1] = -1\n",
    "print(\"x2 with odd elements replaced by –1:\\n\", x2)"
   ],
   "id": "b3437a8fb58c4efa",
   "outputs": [
    {
     "name": "stdout",
     "output_type": "stream",
     "text": [
      "Boolean mask:\n",
      " [[False  True False  True]\n",
      " [False  True False  True]\n",
      " [False  True False  True]]\n",
      "x[mask] → all even elements: [ 2  4  6  8 10 12]\n",
      "x2 with odd elements replaced by –1:\n",
      " [[-1  2 -1  4]\n",
      " [-1  6 -1  8]\n",
      " [-1 10 -1 12]]\n"
     ]
    }
   ],
   "execution_count": 150
  },
  {
   "metadata": {
    "ExecuteTime": {
     "end_time": "2025-10-19T05:15:50.931704Z",
     "start_time": "2025-10-19T05:15:50.928201Z"
    }
   },
   "cell_type": "code",
   "source": [
    "# 4. Combining basic and advanced indexing\n",
    "# e.g. select rows 0 and 2, but columns 1:3\n",
    "print(\"x[[0, 2], 1:3]:\\n\", x[[0, 2], 1:3])"
   ],
   "id": "24ab23d2074f399d",
   "outputs": [
    {
     "name": "stdout",
     "output_type": "stream",
     "text": [
      "x[[0, 2], 1:3]:\n",
      " [[ 2  3]\n",
      " [10 11]]\n"
     ]
    }
   ],
   "execution_count": 151
  },
  {
   "metadata": {},
   "cell_type": "markdown",
   "source": [
    "---\n",
    "## 2.4 Array attributes\n",
    "\n",
    "- Every NumPy array is a Python object of class `numpy.ndarray`.\n",
    "- Besides storing the actual data, it also stores various attributes that describe its structure and memory layout."
   ],
   "id": "ec2840f9aa5bdd68"
  },
  {
   "metadata": {
    "ExecuteTime": {
     "end_time": "2025-10-19T05:15:50.975710Z",
     "start_time": "2025-10-19T05:15:50.971901Z"
    }
   },
   "cell_type": "code",
   "source": [
    "# Let's create a simple 2D array\n",
    "a = np.array([[1, 2, 3, 4],\n",
    "              [5, 6, 7, 8],\n",
    "              [9, 10, 11, 12]])\n",
    "\n",
    "print(\"Type of numpy array object:\", type(a))"
   ],
   "id": "b34842346a73237a",
   "outputs": [
    {
     "name": "stdout",
     "output_type": "stream",
     "text": [
      "Type of numpy array object: <class 'numpy.ndarray'>\n"
     ]
    }
   ],
   "execution_count": 152
  },
  {
   "metadata": {
    "ExecuteTime": {
     "end_time": "2025-10-19T05:15:51.023760Z",
     "start_time": "2025-10-19T05:15:51.019267Z"
    }
   },
   "cell_type": "code",
   "source": [
    "print(\"Number of dimensions (ndim):\", a.ndim)\n",
    "print(\"Shape (rows, columns):\", a.shape)\n",
    "print(\"Total number of elements (size):\", a.size)\n",
    "print(\"Data type (dtype):\", a.dtype)\n",
    "print(\"Size of one element in bytes (itemsize):\", a.itemsize)\n",
    "print(\"Total size in bytes (nbytes):\", a.nbytes)\n",
    "print(\"Transposed array (T):\\n\", a.T)"
   ],
   "id": "b35c323296e240e0",
   "outputs": [
    {
     "name": "stdout",
     "output_type": "stream",
     "text": [
      "Number of dimensions (ndim): 2\n",
      "Shape (rows, columns): (3, 4)\n",
      "Total number of elements (size): 12\n",
      "Data type (dtype): int64\n",
      "Size of one element in bytes (itemsize): 8\n",
      "Total size in bytes (nbytes): 96\n",
      "Transposed array (T):\n",
      " [[ 1  5  9]\n",
      " [ 2  6 10]\n",
      " [ 3  7 11]\n",
      " [ 4  8 12]]\n"
     ]
    }
   ],
   "execution_count": 153
  },
  {
   "metadata": {},
   "cell_type": "markdown",
   "source": [
    "Example explanation:\n",
    "- ndim   → tells how many axes (dimensions) the array has\n",
    "- shape  → gives the length of each dimension as a tuple\n",
    "- size   → total count of elements = product of shape entries\n",
    "- dtype  → data type of the elements (e.g. int32, float64)\n",
    "- itemsize → bytes per element, depends on dtype\n",
    "- nbytes   → total memory used by the array\n",
    "- T        → shorthand for the transposed view (rows <-> columns)\n"
   ],
   "id": "dfa4c7396c3a8a57"
  },
  {
   "metadata": {},
   "cell_type": "markdown",
   "source": [
    "---\n",
    "## 2.5 Array methods\n",
    "\n",
    "- A NumPy ndarray provides many built-in methods that operate on the array or return information about it. Most of these methods return a new array or a computed value derived from the data."
   ],
   "id": "b9e6f3602326c5a2"
  },
  {
   "metadata": {
    "ExecuteTime": {
     "end_time": "2025-10-19T05:15:51.070339Z",
     "start_time": "2025-10-19T05:15:51.066360Z"
    }
   },
   "cell_type": "code",
   "source": [
    "# Create a 2D array\n",
    "a = np.array([[1, 2, 3], [4, 5, 6]])\n",
    "\n",
    "# Reshape the array to 3 rows and 2 columns\n",
    "reshaped = a.reshape(3, 2)\n",
    "print(\"Reshaped array:\\n\", reshaped)\n",
    "\n",
    "# Flatten the array to 1D\n",
    "flattened = a.flatten()\n",
    "print(\"\\nFlattened array:\", flattened)"
   ],
   "id": "5a936f3ac91b1739",
   "outputs": [
    {
     "name": "stdout",
     "output_type": "stream",
     "text": [
      "Reshaped array:\n",
      " [[1 2]\n",
      " [3 4]\n",
      " [5 6]]\n",
      "\n",
      "Flattened array: [1 2 3 4 5 6]\n"
     ]
    }
   ],
   "execution_count": 154
  },
  {
   "metadata": {
    "ExecuteTime": {
     "end_time": "2025-10-19T05:15:51.118305Z",
     "start_time": "2025-10-19T05:15:51.114116Z"
    }
   },
   "cell_type": "code",
   "source": [
    "# --- Max and Min ---\n",
    "print(\"Max element:\", a.max())                  # ndarray.max()\n",
    "print(\"Index of max (flattened):\", a.argmax())  # ndarray.argmax()\n",
    "print(\"Min element:\", a.min())                  # ndarray.min()\n",
    "print(\"Index of min (flattened):\", a.argmin())  # ndarray.argmin()"
   ],
   "id": "11e7eda086d3efc5",
   "outputs": [
    {
     "name": "stdout",
     "output_type": "stream",
     "text": [
      "Max element: 6\n",
      "Index of max (flattened): 5\n",
      "Min element: 1\n",
      "Index of min (flattened): 0\n"
     ]
    }
   ],
   "execution_count": 155
  },
  {
   "metadata": {
    "ExecuteTime": {
     "end_time": "2025-10-19T05:15:51.163924Z",
     "start_time": "2025-10-19T05:15:51.159581Z"
    }
   },
   "cell_type": "code",
   "source": [
    "# --- Rounding ---\n",
    "arr_float = np.array([[1.234, 2.567], [3.891, 4.456]])\n",
    "rounded = arr_float.round(1)             # Round to 1 decimal\n",
    "print(\"Rounded array:\\n\", rounded)"
   ],
   "id": "d6de26ada6300b70",
   "outputs": [
    {
     "name": "stdout",
     "output_type": "stream",
     "text": [
      "Rounded array:\n",
      " [[1.2 2.6]\n",
      " [3.9 4.5]]\n"
     ]
    }
   ],
   "execution_count": 156
  },
  {
   "metadata": {
    "ExecuteTime": {
     "end_time": "2025-10-19T05:15:51.208285Z",
     "start_time": "2025-10-19T05:15:51.204798Z"
    }
   },
   "cell_type": "code",
   "source": [
    "# --- Trace ---\n",
    "print(\"Trace (sum of diagonal):\", a.trace())  # Sum along main diagonal"
   ],
   "id": "295bffa74f875540",
   "outputs": [
    {
     "name": "stdout",
     "output_type": "stream",
     "text": [
      "Trace (sum of diagonal): 6\n"
     ]
    }
   ],
   "execution_count": 157
  },
  {
   "metadata": {
    "ExecuteTime": {
     "end_time": "2025-10-19T05:15:51.255626Z",
     "start_time": "2025-10-19T05:15:51.251661Z"
    }
   },
   "cell_type": "code",
   "source": [
    "# --- Sum, Cumsum, Mean ---\n",
    "print(\"Sum of all elements:\", a.sum())\n",
    "print(\"Cumulative sum along rows:\\n\", a.cumsum(axis=1))\n",
    "print(\"Mean along columns:\", a.mean(axis=0))"
   ],
   "id": "700d744eaf72f44b",
   "outputs": [
    {
     "name": "stdout",
     "output_type": "stream",
     "text": [
      "Sum of all elements: 21\n",
      "Cumulative sum along rows:\n",
      " [[ 1  3  6]\n",
      " [ 4  9 15]]\n",
      "Mean along columns: [2.5 3.5 4.5]\n"
     ]
    }
   ],
   "execution_count": 158
  },
  {
   "metadata": {
    "ExecuteTime": {
     "end_time": "2025-10-19T05:15:51.302576Z",
     "start_time": "2025-10-19T05:15:51.298844Z"
    }
   },
   "cell_type": "code",
   "source": [
    "# --- Variance and Standard Deviation ---\n",
    "print(\"Variance of all elements:\", a.var())\n",
    "print(\"Standard deviation:\", a.std())"
   ],
   "id": "513404c19cf54d86",
   "outputs": [
    {
     "name": "stdout",
     "output_type": "stream",
     "text": [
      "Variance of all elements: 2.9166666666666665\n",
      "Standard deviation: 1.707825127659933\n"
     ]
    }
   ],
   "execution_count": 159
  },
  {
   "metadata": {
    "ExecuteTime": {
     "end_time": "2025-10-19T05:15:51.351045Z",
     "start_time": "2025-10-19T05:15:51.346954Z"
    }
   },
   "cell_type": "code",
   "source": [
    "# --- Logical checks ---\n",
    "print(\"All elements > 0?\", (a > 0).all())\n",
    "print(\"Any element > 5?\", (a > 5).any())"
   ],
   "id": "e97c3164b8cde35c",
   "outputs": [
    {
     "name": "stdout",
     "output_type": "stream",
     "text": [
      "All elements > 0? True\n",
      "Any element > 5? True\n"
     ]
    }
   ],
   "execution_count": 160
  },
  {
   "metadata": {},
   "cell_type": "markdown",
   "source": [
    "---\n",
    "## 2.6 Arithmetic and linear algebra\n"
   ],
   "id": "7c42182120b48203"
  },
  {
   "metadata": {
    "ExecuteTime": {
     "end_time": "2025-10-19T05:15:51.411105Z",
     "start_time": "2025-10-19T05:15:51.406748Z"
    }
   },
   "cell_type": "code",
   "source": [
    "# Create example arrays\n",
    "a = np.array([[1, 2], [3, 4]])\n",
    "b = np.array([[5, 6], [7, 8]])\n",
    "\n",
    "print(\"Array a:\\n\", a)\n",
    "print(\"Array b:\\n\", b)\n"
   ],
   "id": "9817527bcfd9b6d8",
   "outputs": [
    {
     "name": "stdout",
     "output_type": "stream",
     "text": [
      "Array a:\n",
      " [[1 2]\n",
      " [3 4]]\n",
      "Array b:\n",
      " [[5 6]\n",
      " [7 8]]\n"
     ]
    }
   ],
   "execution_count": 161
  },
  {
   "metadata": {
    "ExecuteTime": {
     "end_time": "2025-10-19T05:15:51.462570Z",
     "start_time": "2025-10-19T05:15:51.457097Z"
    }
   },
   "cell_type": "code",
   "source": [
    "# Addition (elementwise)\n",
    "print(\"Addition (a + b):\\n\", a + b)\n",
    "\n",
    "# Subtraction (elementwise)\n",
    "print(\"Subtraction (a - b):\\n\", a - b)\n",
    "\n",
    "# Multiplication (elementwise)\n",
    "print(\"Elementwise multiplication (a * b):\\n\", a * b)\n",
    "\n",
    "# Division (elementwise)\n",
    "print(\"Elementwise division (a / b):\\n\", a / b)\n",
    "\n",
    "# Exponentiation (elementwise)\n",
    "print(\"Elementwise power (a ** 2):\\n\", a ** 2)\n",
    "\n",
    "# Modulo (elementwise)\n",
    "print(\"Elementwise modulo (b % a):\\n\", b % a)"
   ],
   "id": "e80d6deeb1172623",
   "outputs": [
    {
     "name": "stdout",
     "output_type": "stream",
     "text": [
      "Addition (a + b):\n",
      " [[ 6  8]\n",
      " [10 12]]\n",
      "Subtraction (a - b):\n",
      " [[-4 -4]\n",
      " [-4 -4]]\n",
      "Elementwise multiplication (a * b):\n",
      " [[ 5 12]\n",
      " [21 32]]\n",
      "Elementwise division (a / b):\n",
      " [[0.2        0.33333333]\n",
      " [0.42857143 0.5       ]]\n",
      "Elementwise power (a ** 2):\n",
      " [[ 1  4]\n",
      " [ 9 16]]\n",
      "Elementwise modulo (b % a):\n",
      " [[0 0]\n",
      " [1 0]]\n"
     ]
    }
   ],
   "execution_count": 162
  },
  {
   "metadata": {
    "ExecuteTime": {
     "end_time": "2025-10-19T05:15:51.542357Z",
     "start_time": "2025-10-19T05:15:51.519872Z"
    }
   },
   "cell_type": "code",
   "source": [
    "# Matrix multiplication\n",
    "matmul = a @ b  # or np.matmul(a, b)\n",
    "print(\"Matrix multiplication (a @ b):\\n\", matmul)\n",
    "\n",
    "# Dot product\n",
    "dot = np.dot(a[0], b[0])\n",
    "print(\"Dot product (np.dot(a[0], b[0])):\\n\", dot)\n",
    "\n",
    "# Transpose\n",
    "print(\"Transpose of a (a.T):\\n\", a.T)\n",
    "\n",
    "# Determinant\n",
    "det = np.linalg.det(a)\n",
    "print(\"Determinant of a:\", det)\n",
    "\n",
    "# Inverse\n",
    "inv = np.linalg.inv(a)\n",
    "print(\"Inverse of a:\\n\", inv)\n",
    "\n",
    "# Eigenvalues and eigenvectors\n",
    "eigvals, eigvecs = np.linalg.eig(a)\n",
    "print(\"Eigenvalues of a:\", eigvals)\n",
    "print(\"Eigenvectors of a:\\n\", eigvecs)\n",
    "\n",
    "# Norms\n",
    "norm_a0 = np.linalg.norm(a[0])\n",
    "print(\"Frobenius norm of a[0]:\", norm_a0)"
   ],
   "id": "bcb1864cd144ae",
   "outputs": [
    {
     "name": "stdout",
     "output_type": "stream",
     "text": [
      "Matrix multiplication (a @ b):\n",
      " [[19 22]\n",
      " [43 50]]\n",
      "Dot product (np.dot(a[0], b[0])):\n",
      " 17\n",
      "Transpose of a (a.T):\n",
      " [[1 3]\n",
      " [2 4]]\n",
      "Determinant of a: -2.0000000000000004\n",
      "Inverse of a:\n",
      " [[-2.   1. ]\n",
      " [ 1.5 -0.5]]\n",
      "Eigenvalues of a: [-0.37228132  5.37228132]\n",
      "Eigenvectors of a:\n",
      " [[-0.82456484 -0.41597356]\n",
      " [ 0.56576746 -0.90937671]]\n",
      "Frobenius norm of a[0]: 2.23606797749979\n"
     ]
    }
   ],
   "execution_count": 163
  },
  {
   "metadata": {},
   "cell_type": "markdown",
   "source": [
    "---\n",
    "## 2.7 Miscellaneous"
   ],
   "id": "34e8ef6774f9f33b"
  },
  {
   "metadata": {},
   "cell_type": "markdown",
   "source": "**NumPy** provides optimized **mathematical functions** that work directly on entire arrays (`np.array` objects). These functions are implemented in **compiled C code**, which makes them **very fast**. They automatically apply the operation **elementwise** to all elements in the array — this is called **vectorization**.",
   "id": "63040b8ed22d0802"
  },
  {
   "metadata": {
    "ExecuteTime": {
     "end_time": "2025-10-19T05:15:51.624732Z",
     "start_time": "2025-10-19T05:15:51.619689Z"
    }
   },
   "cell_type": "code",
   "source": [
    "# These are elementwise functions that operate efficiently on ndarrays.\n",
    "\n",
    "# Create an example array\n",
    "a = np.array([0, np.pi/4, np.pi/2, np.pi])\n",
    "print(\"Array a:\\n\", a)\n",
    "\n",
    "# Elementwise trigonometric functions\n",
    "print(\"sin(a):\", np.sin(a))"
   ],
   "id": "d953338247784bf",
   "outputs": [
    {
     "name": "stdout",
     "output_type": "stream",
     "text": [
      "Array a:\n",
      " [0.         0.78539816 1.57079633 3.14159265]\n",
      "sin(a): [0.00000000e+00 7.07106781e-01 1.00000000e+00 1.22464680e-16]\n"
     ]
    }
   ],
   "execution_count": 164
  },
  {
   "metadata": {
    "ExecuteTime": {
     "end_time": "2025-10-19T05:15:51.696771Z",
     "start_time": "2025-10-19T05:15:51.686667Z"
    }
   },
   "cell_type": "code",
   "source": [
    "b = np.array([1, 2, 3, 4])\n",
    "print(\"Array b:\\n\", b)\n",
    "\n",
    "# Exponential\n",
    "print(\"Exponential (e^b):\", np.exp(b))\n",
    "\n",
    "# Logarithms\n",
    "print(\"Natural log (ln(b)):\", np.log(b))\n",
    "print(\"Log base 10:\", np.log10(b))\n",
    "\n",
    "# Power\n",
    "print(\"b cubed:\", np.power(b, 3))\n",
    "c = np.array([1.234, 5.678, -9.1011])\n",
    "\n",
    "# Round to nearest integer\n",
    "print(\"Rounded:\", np.round(c))\n",
    "\n",
    "# Floor and ceiling\n",
    "print(\"Floor:\", np.floor(c))\n",
    "print(\"Ceil:\", np.ceil(c))\n",
    "\n",
    "# Absolute values\n",
    "print(\"Absolute values:\", np.abs(c))\n",
    "d = np.array([1, 2, 3, 4, 5])\n",
    "\n",
    "# Sum/product\n",
    "print(\"Sum:\", np.sum(d))\n",
    "print(\"Product:\", np.prod(d))"
   ],
   "id": "c0321d1a10da90b2",
   "outputs": [
    {
     "name": "stdout",
     "output_type": "stream",
     "text": [
      "Array b:\n",
      " [1 2 3 4]\n",
      "Exponential (e^b): [ 2.71828183  7.3890561  20.08553692 54.59815003]\n",
      "Natural log (ln(b)): [0.         0.69314718 1.09861229 1.38629436]\n",
      "Log base 10: [0.         0.30103    0.47712125 0.60205999]\n",
      "b cubed: [ 1  8 27 64]\n",
      "Rounded: [ 1.  6. -9.]\n",
      "Floor: [  1.   5. -10.]\n",
      "Ceil: [ 2.  6. -9.]\n",
      "Absolute values: [1.234  5.678  9.1011]\n",
      "Sum: 15\n",
      "Product: 120\n"
     ]
    }
   ],
   "execution_count": 165
  },
  {
   "metadata": {
    "ExecuteTime": {
     "end_time": "2025-10-05T16:52:24.663073Z",
     "start_time": "2025-10-05T16:52:24.650415Z"
    }
   },
   "cell_type": "markdown",
   "source": [
    "---\n",
    "## 2.8 Python lists vs NumPy arrays\n",
    "\n",
    "Python lists are flexible but **slow and memory-inefficient** for numerical computations.\n",
    "NumPy arrays (`ndarray`) store data in **contiguous memory** and support **vectorized operations**, making them much faster and smaller in memory footprint.\n",
    "\n",
    "Let's compare both in terms of **execution speed** and **memory usage**."
   ],
   "id": "fdc7d204dbd8c0b8"
  },
  {
   "metadata": {
    "ExecuteTime": {
     "end_time": "2025-10-19T05:15:52.155354Z",
     "start_time": "2025-10-19T05:15:51.763922Z"
    }
   },
   "cell_type": "code",
   "source": [
    "import time, sys\n",
    "\n",
    "# Create a large list and a NumPy array\n",
    "n = 1_000_000\n",
    "py_list = list(range(n))\n",
    "np_array = np.arange(n)\n",
    "\n",
    "# Compare memory usage of both objects\n",
    "list_mem = sys.getsizeof(py_list) + sum(sys.getsizeof(x) for x in py_list)\n",
    "array_mem = np_array.nbytes\n",
    "print(f\"Python list memory: {list_mem / 1e6:.2f} MB\")\n",
    "print(f\"NumPy array memory: {array_mem / 1e6:.2f} MB\")\n",
    "print(f\"Memory ratio (list / array): {list_mem / array_mem:.1f}×\")\n",
    "\n",
    "# Compute 2x Python list\n",
    "list_start = time.time()\n",
    "list_result = [x * 2 for x in py_list]\n",
    "list_end = time.time()\n",
    "print(f\"Python list time: {list_end - list_start:.5f} s\")\n",
    "\n",
    "# Compute 2x NumPy array\n",
    "array_start = time.time()\n",
    "array_result = np_array * 2\n",
    "array_end = time.time()\n",
    "print(f\"NumPy array time: {array_end - array_start:.5f} s\")\n",
    "print(f\"Execution speed ratio (list / array): {(list_end - list_start) / (array_end - array_start):.1f}×\")"
   ],
   "id": "a52bd6ebbaba5e3d",
   "outputs": [
    {
     "name": "stdout",
     "output_type": "stream",
     "text": [
      "Python list memory: 36.00 MB\n",
      "NumPy array memory: 8.00 MB\n",
      "Memory ratio (list / array): 4.5×\n",
      "Python list time: 0.10653 s\n",
      "NumPy array time: 0.00299 s\n",
      "Execution speed ratio (list / array): 35.7×\n"
     ]
    }
   ],
   "execution_count": 166
  },
  {
   "metadata": {},
   "cell_type": "markdown",
   "source": [
    "**Observation:**\n",
    "\n",
    "- NumPy operations are much faster because they run in optimized C loops rather than Python loops.\n",
    "- NumPy arrays use far less memory because all elements share the same data type and they are stored in an efficient way\n",
    "\n",
    "➡️ This demonstrates the two biggest advantages of NumPy:\n",
    "1. **Vectorization** (no explicit loops)\n",
    "2. **Efficient memory representation**"
   ],
   "id": "740be24bfb152f1e"
  },
  {
   "metadata": {},
   "cell_type": "markdown",
   "source": [
    "---\n",
    "## 2.9  🏠 Homework: NumPy Arrays in Data Science\n",
    "\n",
    "### Task Overview\n",
    "In this assignment, you will practice working with **NumPy arrays** and **mathematical functions** to perform a mini data analysis. You will simulate a small part of a **data preprocessing pipeline** — a common step in data science when dealing with multivariate datasets.\n",
    "\n",
    "### Your Task\n",
    "\n",
    "1. **Generate synthetic data:**\n",
    "   - Create a NumPy array `data` of shape **(100, 10)** — representing 100 samples and 10 features.\n",
    "   - The values should be drawn from a **normal distribution** with mean = 50 and standard deviation = 10 using\n",
    "      `np.random.normal(loc=50, scale=10, size=(100, 10))`.\n",
    "   - Print the shape, data type, and the **first 5 rows** of the array.\n",
    "\n",
    "2. **Data cleaning:**\n",
    "   - Replace all values **smaller than 20** or **larger than 80** with `np.nan` (treat them as outliers).\n",
    "   - Print how many `np.nan` values are now in the array.\n",
    "\n",
    "3. **Handle missing values:**\n",
    "   - Compute the **mean of each column** ignoring missing values (`np.nanmean`).\n",
    "   - Replace all `np.nan` values in each column with that column’s mean.\n",
    "\n",
    "4. **Data transformation:**\n",
    "   - **Standardize each column** so that it has mean 0 and standard deviation 1.\n",
    "   - Create a new array where:\n",
    "     - all positive standardized values are replaced with their **square roots**,\n",
    "     - negative values remain unchanged.\n",
    "   - For the first 5 rows, also compute the **exponential (`np.exp`)** of all standardized values and print the result.\n",
    "\n",
    "5. **Array indexing and logical operations:**\n",
    "   - Compute the **75th percentile** for each column.\n",
    "   - Create a Boolean mask that marks all values above the 75th percentile.\n",
    "   - Print how many such “high” values there are in total.\n",
    "   - Replace all values **below the 25th percentile** (computed column-wise) with the 25th percentile value (a simple form of *winsorization*).\n",
    "\n",
    "6. **Descriptive statistics:**\n",
    "   - Compute and print for the final cleaned dataset:\n",
    "     - column-wise **mean**, **median**, **variance**, and **standard deviation**,\n",
    "     - the **overall mean** of the entire array,\n",
    "     - and the **minimum and maximum** values per column.\n",
    "\n",
    "### ✍️ Hints\n",
    "- Use functions such as `np.mean`, `np.std`, `np.nanmean`, `np.isnan`, `np.where`, `np.percentile`, `np.sqrt`, and `np.exp`.\n",
    "- Remember to specify the `axis` argument when computing column-wise statistics (`axis=0`).\n",
    "- Use **vectorized operations** — avoid `for` loops.\n",
    "- Include **comments or docstrings** to make your code clear and readable.\n"
   ],
   "id": "e8feb0514d3defb9"
  },
  {
   "metadata": {},
   "cell_type": "markdown",
   "source": [
    "---\n",
    "## Your solution:"
   ],
   "id": "fdc89ef6b5f4c40a"
  },
  {
   "metadata": {
    "ExecuteTime": {
     "end_time": "2025-10-19T05:15:52.186730Z",
     "start_time": "2025-10-19T05:15:52.177628Z"
    }
   },
   "cell_type": "code",
   "source": [
    "# 100x10 matrix with values from N(50,100) distribution\n",
    "data = np.random.normal(loc=50, scale=10, size=(100, 10))\n",
    "print(\"Data shape: \",data.shape)\n",
    "print(\"Data type: \", data.dtype)\n",
    "print(\"First 5 rows:\\n\", data[:5])"
   ],
   "id": "52ca839fad18d6b7",
   "outputs": [
    {
     "name": "stdout",
     "output_type": "stream",
     "text": [
      "Data shape:  (100, 10)\n",
      "Data type:  float64\n",
      "First 5 rows:\n",
      " [[30.19408333 38.53984323 55.02019225 38.55980793 51.37936435 54.82742522\n",
      "  52.56867238 41.74556418 50.82722145 24.63636946]\n",
      " [54.23149169 50.57817342 56.42417297 55.37155014 57.19634803 42.59693282\n",
      "  39.9795888  40.89609254 40.53710528 44.93417453]\n",
      " [36.21068711 62.61379542 41.27442333 41.38689375 49.532461   34.75876794\n",
      "  34.97357489 55.58529384 54.20558763 37.4644896 ]\n",
      " [43.38989844 50.45818148 45.08970785 40.12302095 49.49307704 50.05558532\n",
      "  49.16548789 52.18441207 39.97179853 38.65552201]\n",
      " [40.02269753 44.07321433 58.23312276 54.82744696 40.03053076 72.71069141\n",
      "  63.62181948 49.0175537  34.43648598 59.44148614]]\n"
     ]
    }
   ],
   "execution_count": 167
  },
  {
   "metadata": {
    "ExecuteTime": {
     "end_time": "2025-10-19T05:15:52.243884Z",
     "start_time": "2025-10-19T05:15:52.239674Z"
    }
   },
   "cell_type": "code",
   "source": [
    "# Replace outliers (data smaller than 20 and larger than 80) with NaN\n",
    "data_cleaned = np.where((data < 20) | (data > 80), np.nan, data)\n",
    "nan_count = np.isnan(data_cleaned).sum()\n",
    "\n",
    "print(\"Number of NaN values (outliers): \", nan_count)"
   ],
   "id": "5dc0423f9aeb6cd7",
   "outputs": [
    {
     "name": "stdout",
     "output_type": "stream",
     "text": [
      "Number of NaN values (outliers):  4\n"
     ]
    }
   ],
   "execution_count": 168
  },
  {
   "metadata": {
    "ExecuteTime": {
     "end_time": "2025-10-19T05:15:52.302679Z",
     "start_time": "2025-10-19T05:15:52.298524Z"
    }
   },
   "cell_type": "code",
   "source": [
    "# Replace NaN values with column means\n",
    "col_mean = np.nanmean(data_cleaned, axis=0)\n",
    "nan_indices = np.where(np.isnan(data_cleaned))\n",
    "data_cleaned[nan_indices] = col_mean[nan_indices[1]]"
   ],
   "id": "e44e7f5d7e265adf",
   "outputs": [],
   "execution_count": 169
  },
  {
   "metadata": {
    "ExecuteTime": {
     "end_time": "2025-10-19T05:15:52.364741Z",
     "start_time": "2025-10-19T05:15:52.336054Z"
    }
   },
   "cell_type": "code",
   "source": [
    "# Standardize each column to have mean 0 and std 1\n",
    "col_mean = np.mean(data_cleaned, axis=0)\n",
    "col_std = np.std(data_cleaned, axis=0)\n",
    "\n",
    "data_standard = (data_cleaned - col_mean) / col_std\n",
    "\n",
    "# Replace positive standardized values with their square roots\n",
    "data_transformed = np.copy(data_standard)\n",
    "positive_mask = (data_standard > 0)\n",
    "data_transformed[positive_mask] = np.sqrt(data_transformed[positive_mask])\n",
    "\n",
    "# Compute exponentials of first 5 rows\n",
    "data_exp = np.copy(data_standard[:5])\n",
    "data_exp = np.exp(data_exp)\n",
    "\n",
    "print(\"Standardized data:\\n\", data_standard)\n",
    "print(\"Transformed data:\\n\", data_transformed)\n",
    "print(\"Exponentials of first 5 rows:\\n\", data_exp)"
   ],
   "id": "c9374ae3c9d5a8",
   "outputs": [
    {
     "name": "stdout",
     "output_type": "stream",
     "text": [
      "Standardized data:\n",
      " [[-2.01410666e+00 -1.08955726e+00  6.56250734e-01 -9.82826519e-01\n",
      "   2.13725742e-01  5.59793987e-01  1.31464383e-01 -1.18793291e+00\n",
      "   4.70804879e-02 -2.49269200e+00]\n",
      " [ 5.61544308e-01  6.60417343e-02  8.04567155e-01  6.44034066e-01\n",
      "   7.70429143e-01 -5.51722309e-01 -1.22192148e+00 -1.28323513e+00\n",
      "  -9.42062392e-01 -4.00487003e-01]\n",
      " [-1.36941689e+00  1.22138076e+00 -7.95851295e-01 -7.09251393e-01\n",
      "   3.69713569e-02 -1.26406060e+00 -1.76009159e+00  3.64746279e-01\n",
      "   3.71827730e-01 -1.17042799e+00]\n",
      " [-6.00151651e-01  5.45233126e-02 -3.92804916e-01 -8.31555484e-01\n",
      "   3.32021905e-02  1.26125608e-01 -2.34394002e-01 -1.67986283e-02\n",
      "  -9.96402803e-01 -1.04766182e+00]\n",
      " [-9.60953205e-01 -5.58390729e-01  9.95664480e-01  5.91381581e-01\n",
      "  -8.72392871e-01  2.18503859e+00  1.31972983e+00 -3.72088451e-01\n",
      "  -1.52848766e+00  1.09486039e+00]\n",
      " [-9.34121744e-01  6.44751019e-01  1.75469079e-01 -1.18904802e+00\n",
      "   3.39974639e-01  6.20571025e-01  1.32440354e+00  7.81033640e-01\n",
      "   7.02112525e-01 -8.58035051e-01]\n",
      " [-3.56747305e-01 -4.62840143e-01 -9.60335303e-02  2.83080660e-01\n",
      "   7.00015129e-01  1.45294223e+00  3.06632426e-02 -2.19020137e+00\n",
      "  -9.37147438e-01 -8.56994312e-01]\n",
      " [ 5.59578330e-01  1.22569297e+00  2.78495928e-01  9.78521671e-01\n",
      "  -5.94050342e-01 -5.86826759e-01  5.15793462e-01  7.81188070e-01\n",
      "   2.32726460e-02  3.70513467e-02]\n",
      " [-2.82015170e-01  1.18188501e+00 -1.21102425e+00 -6.76018606e-01\n",
      "   5.60121459e-01  4.33195643e-01  3.96516891e-01  3.18792496e-01\n",
      "   2.46658181e+00 -9.55436684e-01]\n",
      " [-7.90830219e-01  2.37583454e-01 -1.01449810e+00  6.77634194e-01\n",
      "  -6.70135159e-01 -1.57182831e-01  1.14124450e+00 -3.85008405e-01\n",
      "   2.10149398e+00  2.67069975e-01]\n",
      " [ 6.98405384e-01 -4.06945345e-01  5.43733408e-01  4.00353900e-01\n",
      "   4.74005821e-01  1.11237089e+00  7.20588502e-01  1.01445533e+00\n",
      "   6.53171292e-01  1.57674238e+00]\n",
      " [ 7.61375282e-01  1.24518688e+00 -1.51283327e-01  2.38832239e+00\n",
      "   7.82175214e-01  2.29298899e-01  3.43193089e-01  1.30982997e+00\n",
      "  -1.07715011e-01  2.89158319e-01]\n",
      " [ 4.10971508e-01  1.10941534e+00 -1.05184842e+00 -1.64839628e+00\n",
      "  -3.86737100e-01  2.49738594e-01 -2.35247926e-01 -5.75065771e-01\n",
      "  -1.34158735e+00  4.35107805e-01]\n",
      " [-1.61729737e-01 -2.82457787e-01 -2.04397714e-01 -7.90256985e-01\n",
      "   1.68303587e-02 -5.60321199e-01  9.32925601e-01  1.48819211e+00\n",
      "   8.52746892e-02 -1.44908937e-01]\n",
      " [ 8.29725549e-01 -6.52270840e-01  3.50211935e-01  3.96580628e-01\n",
      "   5.99089416e-01 -1.40545300e-01 -9.39926215e-02  1.37333201e-01\n",
      "   1.65734172e-01 -5.47343583e-01]\n",
      " [-1.19530573e+00 -5.74835502e-02  1.02990231e+00  2.07699752e-01\n",
      "  -3.99304182e-01 -1.13761137e+00 -1.37839662e+00  6.66121476e-01\n",
      "  -1.21126698e+00  1.86194477e+00]\n",
      " [ 2.58192356e-01  1.77321769e+00  1.44125714e+00 -3.76441292e-01\n",
      "  -5.90776398e-01 -6.31785749e-02 -1.29781478e+00 -1.06369309e+00\n",
      "   1.10748550e+00 -1.75928089e+00]\n",
      " [ 7.60642829e-01 -1.00264475e+00 -7.13250161e-01 -1.30690143e+00\n",
      "  -9.08733202e-01 -4.08621647e-01  1.71745295e+00  7.22816225e-01\n",
      "  -1.06050172e+00  1.06109241e+00]\n",
      " [-6.63170645e-01  7.55077994e-01  1.03349083e+00 -1.80493733e+00\n",
      "   9.04901722e-01  8.05528926e-01 -1.05203757e-01  1.25299834e+00\n",
      "  -4.73548477e-01  1.26022829e-01]\n",
      " [-2.49670942e-01 -1.72415947e+00  7.15432051e-01  7.05348987e-01\n",
      "  -1.34991558e+00  7.84177886e-01 -5.24921941e-01 -2.90019361e-01\n",
      "  -6.65525722e-01  3.37017554e-01]\n",
      " [-1.31706459e+00  1.78803069e+00  7.86342905e-01 -1.61876873e-01\n",
      "  -1.53313233e+00 -1.46803992e+00 -2.42056976e+00 -4.08364703e-01\n",
      "  -7.48479519e-01 -1.03367938e-01]\n",
      " [-1.03006275e-01  3.22213786e-01 -3.56566970e-01  7.85626212e-04\n",
      "  -1.91249275e+00 -5.29083836e-01  2.12394503e-01  1.97665364e-01\n",
      "   1.01871504e-01  1.06051832e+00]\n",
      " [ 5.63457657e-01 -1.18205638e+00 -4.52654213e-01  8.42357383e-02\n",
      "  -9.64782040e-01  2.64069642e+00 -1.01781012e+00 -2.64179135e+00\n",
      "  -1.61676014e+00 -4.25012204e-01]\n",
      " [-9.52625947e-01 -9.40566972e-01  2.57496586e-01  7.62430330e-01\n",
      "   2.77157325e-01 -2.43175413e+00 -3.96881706e-02 -2.65955025e+00\n",
      "   8.88078521e-01 -9.18176244e-01]\n",
      " [-1.12382212e+00  1.59677214e+00 -4.47621932e-01 -1.23820923e+00\n",
      "   2.25995640e+00 -3.72835240e-01  4.87568166e-01 -4.04947567e-02\n",
      "  -9.91872384e-01  9.33883099e-02]\n",
      " [ 6.15558720e-01 -1.69419949e-01 -2.43711660e+00 -3.47240864e-01\n",
      "  -1.04092825e+00 -5.56177922e-01 -1.36308139e+00  1.06304115e+00\n",
      "   2.02993231e+00  8.47244210e-01]\n",
      " [ 6.05801630e-01 -7.95957209e-01  5.51077746e-01 -6.35892579e-01\n",
      "   5.58784450e-01 -7.26268974e-01 -1.12666833e+00  5.67147471e-01\n",
      "   1.45946095e+00 -7.25489782e-01]\n",
      " [-5.64533373e-01 -2.78579053e-01 -1.65175319e+00 -9.00834690e-01\n",
      "   1.00112263e+00  9.76734147e-01 -5.37135188e-01  1.18306767e-01\n",
      "   1.18956004e+00 -1.17502684e-01]\n",
      " [-2.74558496e-01  4.62512727e-01 -4.38816398e-01 -6.51083304e-01\n",
      "   8.86142015e-01 -1.49252742e+00  2.19374359e+00  5.00794425e-01\n",
      "   2.21134687e+00  7.81430978e-01]\n",
      " [ 1.71492398e+00 -6.79560636e-02  1.38945471e+00 -4.48881726e-01\n",
      "  -9.55068431e-01  1.09977566e+00 -4.57448810e-01 -1.02667070e-01\n",
      "   7.27290142e-01  5.14329444e-01]\n",
      " [ 2.65768505e-01 -4.75211227e-01 -2.94400810e-01  8.66733705e-01\n",
      "  -4.43470317e-01 -5.90589790e-01  1.72599079e+00 -1.10635456e+00\n",
      "   1.55445003e-01  4.11098842e-01]\n",
      " [ 1.27212047e+00  2.12918117e-01 -4.47595272e-01  8.91967603e-01\n",
      "   1.23268177e+00 -1.79680249e-01 -8.94838491e-01  1.20302109e+00\n",
      "   5.64184957e-01 -3.81495731e-01]\n",
      " [-1.62204301e-02 -1.52059904e+00 -1.94315278e-01  9.42825705e-01\n",
      "   6.75324302e-01  1.80981768e-02  5.34788921e-01  1.33837711e+00\n",
      "  -1.71281936e+00  3.94866907e-01]\n",
      " [ 1.40430370e+00  1.68890909e+00 -1.29400868e+00  8.21172479e-01\n",
      "   3.04992062e-01 -5.49050747e-01 -1.34074131e-01 -3.20768075e-01\n",
      "  -1.09033278e+00  1.07468438e+00]\n",
      " [-1.18709552e+00  2.37567589e-02 -9.78244412e-01 -1.88229840e-01\n",
      "  -1.16724615e+00  5.41389350e-01 -5.24164377e-01  1.82275714e+00\n",
      "  -6.17700297e-01 -5.44235491e-01]\n",
      " [-6.77158348e-01 -3.22281214e-01 -4.36304821e-01 -1.91591485e+00\n",
      "  -7.08792469e-01 -1.38440443e-01 -5.79330498e-01 -8.10886875e-01\n",
      "   4.78843182e-01  2.43774736e-01]\n",
      " [ 2.52921057e-01  2.91689218e-01 -1.13019215e-01  5.77041111e-02\n",
      "  -1.08602713e+00 -8.71059482e-01  1.65235932e+00 -4.94325716e-01\n",
      "  -7.36839200e-01  1.93034836e+00]\n",
      " [-1.64702729e+00 -2.06954790e-01  2.49359617e+00  1.79511837e+00\n",
      "   3.72755198e-01 -4.63350262e-01 -4.75949148e-01 -1.34853901e+00\n",
      "  -1.79743992e-01  9.31660435e-01]\n",
      " [-1.10554278e+00  9.78190609e-01  7.37704742e-01  4.73873078e-01\n",
      "  -9.32180101e-01 -1.49857252e+00 -2.60890281e-01  1.91962848e-01\n",
      "  -4.72704115e-01  6.77888327e-02]\n",
      " [-2.89362646e-01  4.72265858e-01  2.12643338e-02  7.24600330e-01\n",
      "  -2.60269439e-01  8.37568166e-02  8.55301195e-01 -6.37005976e-02\n",
      "   1.60533186e+00  0.00000000e+00]\n",
      " [ 1.54395997e+00 -5.73544166e-01  1.01808312e+00  2.42438474e-01\n",
      "   1.51083253e-01  6.61135702e-01 -1.20728922e+00  2.82014464e-01\n",
      "   2.89482082e-01  1.45247103e+00]\n",
      " [-1.36185743e+00  8.99106946e-01 -9.82339399e-01 -8.14369272e-01\n",
      "   6.56686766e-01  1.02089503e+00  2.54746149e-01  1.54569942e-01\n",
      "   1.35539642e+00 -1.14086674e+00]\n",
      " [-2.41474739e+00 -2.47973188e+00 -8.85817592e-02 -1.76965017e-01\n",
      "  -6.26647214e-01  3.28465070e-01  4.28623452e-01 -2.84694129e-01\n",
      "  -1.70576131e-01 -5.51892688e-01]\n",
      " [ 1.18769471e+00 -1.13076637e-01 -4.63341669e-01 -1.12225695e+00\n",
      "   5.45721861e-01 -3.16268573e-01  1.57833736e+00  9.79156956e-01\n",
      "  -1.06211125e+00  2.28908435e-01]\n",
      " [ 1.22130508e+00  5.42868526e-01  1.14061207e+00  7.64485307e-01\n",
      "   1.66012134e+00 -5.74208577e-01 -3.92725851e-01 -4.19074080e-01\n",
      "  -1.56288745e+00 -6.19091051e-01]\n",
      " [-1.21681490e+00  1.59946016e-01 -1.28934405e-01 -3.92681129e-01\n",
      "  -1.02532936e+00 -6.04709344e-01 -6.86193699e-01  2.40299042e-02\n",
      "  -2.21661739e+00 -1.40722943e-01]\n",
      " [-9.29514935e-01 -9.05887605e-02 -9.77174962e-01 -3.77925678e-01\n",
      "   2.74090183e+00 -8.37828740e-01 -4.10096679e-01 -1.49276459e+00\n",
      "  -8.13624026e-02 -1.86577318e+00]\n",
      " [-4.42539250e-01  2.00085850e+00  3.67159866e-01 -4.41585722e-01\n",
      "  -1.08656480e+00 -6.40757122e-01 -1.22662455e+00 -7.98073183e-01\n",
      "   7.65361903e-01  4.92496749e-01]\n",
      " [-5.75791753e-01  2.02033724e-01 -8.63410273e-01  8.11907400e-01\n",
      "   9.38619306e-01 -8.54630692e-03 -9.99575391e-02  1.92891438e+00\n",
      "   9.52841639e-03  4.70126430e-01]\n",
      " [ 1.20143009e+00  6.74097767e-01 -1.22294463e+00 -3.65274961e-01\n",
      "   6.37486745e-01  2.66636990e-01 -1.20957582e+00  6.24774049e-01\n",
      "  -1.50128236e+00 -6.76907893e-01]\n",
      " [ 2.20098665e+00 -1.29003518e+00  2.72402196e-01  2.08884872e+00\n",
      "   1.98131505e-01  5.64765035e-01  1.01222136e+00  9.28236405e-02\n",
      "  -1.87385435e+00  4.90942536e-01]\n",
      " [-1.02177028e+00  1.05329772e+00  1.17763871e+00  5.14542820e-01\n",
      "   6.87961435e-01 -6.33110355e-01 -8.13720264e-01  5.88689687e-02\n",
      "  -2.48936149e-01  1.97481553e+00]\n",
      " [ 1.20634865e+00 -1.05684939e+00  7.33124071e-01  3.44978049e-01\n",
      "   6.80011461e-16  1.98136830e-01  1.38184904e+00  7.61190524e-01\n",
      "   8.21069434e-01 -4.88865517e-01]\n",
      " [-7.98574037e-01  5.85152938e-01  7.79349771e-01 -1.63567608e+00\n",
      "  -4.96172888e-02 -1.43277522e+00  5.55138539e-01 -1.76892829e+00\n",
      "  -1.22078997e-01 -2.71359324e-01]\n",
      " [ 2.21331086e-02  4.68312589e-01 -1.22537625e+00 -6.72073397e-01\n",
      "   1.06998391e+00  2.26460855e+00  1.62359345e+00 -5.40474464e-01\n",
      "  -5.05455205e-01  1.43902173e+00]\n",
      " [ 4.21734671e-01  3.02748968e-01  4.57122303e-01 -2.25593130e-01\n",
      "   1.29012220e-01  2.78743683e-01 -4.19846703e-01 -1.35067489e+00\n",
      "  -1.07865149e+00  9.93426054e-01]\n",
      " [-1.68632875e-01  2.71548702e+00 -5.38428749e-02  1.58414994e+00\n",
      "  -9.66798941e-01 -1.42734714e+00  1.05890520e+00  1.87469512e+00\n",
      "  -1.37608291e+00  1.13787575e+00]\n",
      " [ 4.08135091e-01  1.87333208e+00 -1.53296768e+00 -1.10874393e+00\n",
      "  -2.02442724e+00  7.12379190e-01 -2.33184154e+00  3.76714318e-01\n",
      "   2.63760588e-01  2.02239940e+00]\n",
      " [ 1.00369750e+00  6.63135478e-01 -9.81905824e-01  2.02274864e+00\n",
      "   1.50824976e+00 -6.37266336e-01 -8.97258705e-02  6.26264237e-01\n",
      "   5.79299520e-01 -1.14649258e+00]\n",
      " [ 5.17050846e-01 -1.25509811e+00 -1.04287107e-01  7.24702721e-01\n",
      "   6.98287939e-01 -1.92166382e+00 -5.36799025e-01  1.14337538e+00\n",
      "   1.22522870e-01 -5.55719531e-02]\n",
      " [ 6.03881926e-01  7.13124936e-01 -2.13774497e+00 -3.68906603e-01\n",
      "  -1.54826898e+00  1.68443846e+00  5.60817463e-02 -1.28727521e+00\n",
      "  -8.47044344e-01  1.15079495e+00]\n",
      " [ 1.59750178e-01 -6.22980940e-01  8.86816465e-01  9.34500289e-01\n",
      "  -4.36536356e-01 -7.22670937e-01 -1.21775557e-01  1.86543506e+00\n",
      "  -5.91596958e-01 -3.71526695e-01]\n",
      " [ 3.13854386e-01  9.60345934e-02 -1.48382195e+00 -1.15060695e-01\n",
      "  -2.37271657e-01  1.34965629e+00  1.15384607e+00  9.08597275e-01\n",
      "  -1.81844450e-01 -1.68644143e+00]\n",
      " [-1.24312907e+00  6.26282751e-01 -6.54712728e-01 -4.78968586e-01\n",
      "   2.35456688e-01 -3.95132917e-01  1.77678952e+00 -1.69322075e+00\n",
      "   2.11959955e-01 -8.54373349e-01]\n",
      " [ 1.53650756e+00  1.05940207e-01  1.65075037e+00  5.80327147e-01\n",
      "   2.49885339e-01  1.03747580e+00 -2.13296331e+00 -8.98672953e-01\n",
      "  -3.24521310e-01 -5.60928315e-01]\n",
      " [ 5.82227129e-01  3.94447205e-01  1.15811860e+00  8.58533957e-01\n",
      "   1.22916141e-01  2.34586928e+00 -8.77295063e-01 -1.56806216e-01\n",
      "  -1.98781256e-01 -2.05171515e-01]\n",
      " [-7.26580454e-01 -1.13956958e+00 -8.84134455e-02 -1.02808147e+00\n",
      "  -1.63009711e+00 -7.58942229e-01  7.99048903e-01 -5.29496615e-01\n",
      "   7.81725338e-01 -7.35047576e-02]\n",
      " [-9.61941708e-01  8.43388801e-01  9.07828108e-01 -7.39225857e-01\n",
      "  -3.40112664e-02  3.45079597e-01 -7.83545718e-02  8.59897328e-01\n",
      "   1.29394247e+00 -1.98547733e+00]\n",
      " [ 2.12148219e+00 -1.87431326e+00  1.12674191e+00 -7.95128430e-01\n",
      "   8.56008004e-01  7.70156998e-01 -8.60204069e-01  1.94534802e+00\n",
      "  -1.93429355e-01 -1.28522262e+00]\n",
      " [ 6.87564895e-01  1.86126944e-02  4.01552662e-01  5.25327108e-01\n",
      "   4.76651744e-01 -6.40434302e-02 -5.83213977e-01  4.33893833e-01\n",
      "  -9.14013735e-02  1.20943373e+00]\n",
      " [ 1.28839311e+00 -1.09177760e+00  7.95448355e-01 -7.17450424e-01\n",
      "   2.29514912e-01 -1.61146188e+00  1.22163652e-01  9.96049559e-01\n",
      "  -1.35481780e-01  1.24834211e+00]\n",
      " [-4.41527677e-01  1.08859020e+00  7.50400045e-02  7.11691118e-01\n",
      "  -1.27833256e+00  4.98864579e-01 -1.40280156e+00 -7.74078423e-01\n",
      "  -6.40118529e-01 -6.42232746e-01]\n",
      " [-8.83219689e-01 -1.34675298e+00  1.59778733e-01  1.11660209e+00\n",
      "  -1.37782446e+00  1.05536208e+00  1.69551464e+00 -8.89940988e-01\n",
      "   1.47728099e+00  6.76698009e-01]\n",
      " [-1.52448747e-01  2.39273909e-01 -8.36116094e-01 -7.68023529e-01\n",
      "  -1.24188789e+00  1.40847418e+00 -3.88875195e-01 -3.11738139e-01\n",
      "  -5.42173385e-01  4.94991607e-01]\n",
      " [-6.23859110e-01 -1.45597977e+00 -1.90103990e+00  1.06125223e+00\n",
      "  -1.96618230e-01  3.09912629e-01 -1.15341646e+00  4.01850555e-01\n",
      "   1.19101684e+00 -2.26606009e+00]\n",
      " [-4.49747511e-01  4.25239670e-01 -1.98488123e-01 -3.86734573e-01\n",
      "   1.35270883e+00 -2.08403613e+00 -8.29111773e-02  6.28651069e-01\n",
      "  -6.67235955e-01 -1.69360883e+00]\n",
      " [-5.12723858e-03  2.64993305e-01  3.58476848e-01 -1.38493923e-01\n",
      "  -2.54907539e+00 -8.92488862e-01 -4.08779477e-02 -1.28546541e+00\n",
      "   1.15825155e+00  4.55054173e-01]\n",
      " [ 4.20634820e-01  5.55152062e-01 -1.17489303e+00 -7.96784996e-02\n",
      "   6.72135068e-01 -1.28573067e+00 -3.19949955e-01 -1.61730719e+00\n",
      "   1.43916871e+00  3.42906333e-01]\n",
      " [-8.38548345e-01  1.57249394e-02  3.83253963e-02 -2.92698880e-01\n",
      "   4.76510726e-01  9.36855267e-01  1.59070224e+00 -9.04336098e-01\n",
      "   5.97768440e-02 -1.40134341e+00]\n",
      " [ 1.67945557e+00  1.66568036e+00 -1.89708991e-01  1.84311066e-04\n",
      "   1.29151439e+00 -5.16902786e-01  6.11492908e-02  1.49083513e+00\n",
      "   1.53959567e+00 -7.15638789e-01]\n",
      " [-2.49873021e+00 -9.75205991e-01 -2.05674358e-01  1.63853580e+00\n",
      "   1.94186440e+00  4.58368829e-01  1.73986492e+00  7.63183468e-01\n",
      "  -7.36076212e-01 -1.33089086e+00]\n",
      " [-8.44890788e-01  4.65963467e-01 -4.34563635e-01  1.03910276e+00\n",
      "  -6.12623138e-01 -8.20915628e-01  1.11502825e+00  1.69311910e-02\n",
      "  -1.67558305e+00  1.12130284e+00]\n",
      " [ 2.53581429e+00 -1.13178767e+00  0.00000000e+00  1.20809133e+00\n",
      "  -9.14611621e-01  2.86462129e-01 -6.56781129e-01  4.67690172e-01\n",
      "   5.04787880e-01  1.16315283e+00]\n",
      " [-1.59124308e+00 -2.42026616e-01 -9.70993168e-01 -6.88413056e-02\n",
      "   7.48544276e-01 -1.72393373e-01  9.04640006e-01  9.96627420e-01\n",
      "  -5.51055049e-01 -7.44214769e-01]\n",
      " [ 1.26561952e+00 -2.77671768e-01 -1.23098650e+00  2.09735802e-01\n",
      "  -9.68623570e-01 -2.37483458e-01  1.10125963e+00 -4.89341353e-01\n",
      "  -2.58381026e-01 -8.04148805e-01]\n",
      " [ 3.17915743e-01 -1.20447266e+00  2.01922405e-01 -1.40228203e+00\n",
      "  -4.04192375e-01 -1.56169534e+00  0.00000000e+00  7.11526351e-02\n",
      "   5.18675249e-02 -1.62815048e-01]\n",
      " [ 3.22318002e-03 -4.68207349e-01  1.55392704e+00  9.86229698e-01\n",
      "   1.15236622e+00 -5.14048226e-01  8.19456433e-02  6.66867863e-01\n",
      "  -4.76829878e-01  1.12172813e+00]\n",
      " [ 2.27480543e-02 -1.83071841e+00  9.84887209e-01 -1.12908419e+00\n",
      "   8.47173940e-01  1.13148887e+00  1.56284558e-01  2.32175579e-01\n",
      "  -4.97582852e-02  2.08781760e+00]\n",
      " [ 1.12803120e+00  8.73574673e-01 -3.05229726e-01 -2.10164482e+00\n",
      "   1.19009056e+00  9.71377370e-01  7.97306032e-01 -1.19798288e+00\n",
      "   3.77211068e-01 -9.86370348e-01]\n",
      " [ 1.16914575e-01  1.34190385e+00  1.91734433e+00  1.61967400e+00\n",
      "   3.07573627e-01  6.96533875e-01  3.65444247e-01  1.15156614e+00\n",
      "  -5.76457560e-01  6.94905689e-01]\n",
      " [ 1.36083860e+00 -8.49000593e-01 -3.14235917e-01 -1.57053927e+00\n",
      "  -1.46830076e+00  2.53798701e-01 -1.12884406e+00 -7.68301439e-01\n",
      "   2.13213512e+00 -9.77367162e-01]\n",
      " [-1.39829504e-02 -9.47739237e-01  3.28406283e+00  1.82665352e+00\n",
      "  -6.85309666e-02  5.34310865e-01 -1.30171808e+00 -4.70528333e-02\n",
      "   1.77986435e-01  9.23267867e-01]\n",
      " [-7.45842711e-01  6.43710213e-01  5.81426963e-01 -1.92298491e-01\n",
      "  -1.63560836e+00  4.04622304e-01  6.16262854e-01  3.58279556e-01\n",
      "   1.72967265e+00 -1.08924083e+00]\n",
      " [ 7.14137805e-01 -1.54874269e+00 -8.60363911e-01 -2.07695809e+00\n",
      "   1.12625043e+00  8.83757834e-01 -1.22288509e+00  2.05531901e-01\n",
      "  -8.60015291e-01  5.37734177e-01]\n",
      " [-1.54542847e-01 -7.89115793e-01  1.35441736e+00 -1.36706508e+00\n",
      "  -6.56738927e-01  2.15552898e-01 -1.17443179e+00  5.41775214e-01\n",
      "   5.04075173e-02 -5.50231673e-01]\n",
      " [-6.48272292e-01  4.75382079e-01 -1.41835048e+00 -6.92031180e-01\n",
      "   1.04868641e+00 -2.86696902e-01  4.52007880e-01 -4.40190031e-01\n",
      "  -6.43815145e-01 -2.03182468e-01]\n",
      " [ 5.21129108e-01 -9.90603417e-01  1.62071598e+00 -8.72205570e-01\n",
      "   1.64471668e+00  1.87751556e+00 -5.93261108e-01 -5.16320921e-01\n",
      "   3.96794699e-01  5.25809347e-01]\n",
      " [ 2.56228798e-01 -1.34384637e-01 -5.36526986e-01  1.34494451e+00\n",
      "  -9.05032720e-01 -1.28761374e-01  1.07977770e+00 -1.64368767e+00\n",
      "  -1.22213238e-01  3.36794784e-01]\n",
      " [-1.07630177e-01 -5.46400252e-01  5.56646901e-01  3.90800421e-01\n",
      "   7.49912946e-01  9.45086929e-02  2.77506796e-01  4.20478047e-01\n",
      "   1.03512412e+00  3.01131641e-01]\n",
      " [ 5.91624890e-01 -1.82270621e+00 -1.08075257e+00  1.67295099e+00\n",
      "  -6.23082106e-01 -1.94005483e+00  1.56428654e-01 -7.23404573e-01\n",
      "   6.44700094e-01  4.64533048e-01]]\n",
      "Transformed data:\n",
      " [[-2.01410666e+00 -1.08955726e+00  8.10093040e-01 -9.82826519e-01\n",
      "   4.62304815e-01  7.48193816e-01  3.62580174e-01 -1.18793291e+00\n",
      "   2.16980386e-01 -2.49269200e+00]\n",
      " [ 7.49362601e-01  2.56985864e-01  8.96976675e-01  8.02517331e-01\n",
      "   8.77740932e-01 -5.51722309e-01 -1.22192148e+00 -1.28323513e+00\n",
      "  -9.42062392e-01 -4.00487003e-01]\n",
      " [-1.36941689e+00  1.10516097e+00 -7.95851295e-01 -7.09251393e-01\n",
      "   1.92279372e-01 -1.26406060e+00 -1.76009159e+00  6.03942281e-01\n",
      "   6.09776787e-01 -1.17042799e+00]\n",
      " [-6.00151651e-01  2.33502275e-01 -3.92804916e-01 -8.31555484e-01\n",
      "   1.82214682e-01  3.55141673e-01 -2.34394002e-01 -1.67986283e-02\n",
      "  -9.96402803e-01 -1.04766182e+00]\n",
      " [-9.60953205e-01 -5.58390729e-01  9.97829885e-01  7.69013381e-01\n",
      "  -8.72392871e-01  1.47818760e+00  1.14879495e+00 -3.72088451e-01\n",
      "  -1.52848766e+00  1.04635577e+00]\n",
      " [-9.34121744e-01  8.02963896e-01  4.18890295e-01 -1.18904802e+00\n",
      "   5.83073442e-01  7.87763305e-01  1.15082733e+00  8.83761076e-01\n",
      "   8.37921551e-01 -8.58035051e-01]\n",
      " [-3.56747305e-01 -4.62840143e-01 -9.60335303e-02  5.32053249e-01\n",
      "   8.36669068e-01  1.20538053e+00  1.75109231e-01 -2.19020137e+00\n",
      "  -9.37147438e-01 -8.56994312e-01]\n",
      " [ 7.48049684e-01  1.10711019e+00  5.27727134e-01  9.89202543e-01\n",
      "  -5.94050342e-01 -5.86826759e-01  7.18187623e-01  8.83848443e-01\n",
      "   1.52553748e-01  1.92487264e-01]\n",
      " [-2.82015170e-01  1.08714535e+00 -1.21102425e+00 -6.76018606e-01\n",
      "   7.48412626e-01  6.58175997e-01  6.29695872e-01  5.64617123e-01\n",
      "   1.57053552e+00 -9.55436684e-01]\n",
      " [-7.90830219e-01  4.87425331e-01 -1.01449810e+00  8.23185395e-01\n",
      "  -6.70135159e-01 -1.57182831e-01  1.06829046e+00 -3.85008405e-01\n",
      "   1.44965306e+00  5.16788133e-01]\n",
      " [ 8.35706518e-01 -4.06945345e-01  7.37382810e-01  6.32735253e-01\n",
      "   6.88480807e-01  1.05468995e+00  8.48874845e-01  1.00720173e+00\n",
      "   8.08190134e-01  1.25568403e+00]\n",
      " [ 8.72568211e-01  1.11587942e+00 -1.51283327e-01  1.54541981e+00\n",
      "   8.84406702e-01  4.78851646e-01  5.85826842e-01  1.14447803e+00\n",
      "  -1.07715011e-01  5.37734431e-01]\n",
      " [ 6.41070595e-01  1.05328787e+00 -1.05184842e+00 -1.64839628e+00\n",
      "  -3.86737100e-01  4.99738525e-01 -2.35247926e-01 -5.75065771e-01\n",
      "  -1.34158735e+00  6.59627020e-01]\n",
      " [-1.61729737e-01 -2.82457787e-01 -2.04397714e-01 -7.90256985e-01\n",
      "   1.29731872e-01 -5.60321199e-01  9.65880738e-01  1.21991480e+00\n",
      "   2.92018303e-01 -1.44908937e-01]\n",
      " [ 9.10892721e-01 -6.52270840e-01  5.91787069e-01  6.29746479e-01\n",
      "   7.74008667e-01 -1.40545300e-01 -9.39926215e-02  3.70584945e-01\n",
      "   4.07104620e-01 -5.47343583e-01]\n",
      " [-1.19530573e+00 -5.74835502e-02  1.01484103e+00  4.55740883e-01\n",
      "  -3.99304182e-01 -1.13761137e+00 -1.37839662e+00  8.16162653e-01\n",
      "  -1.21126698e+00  1.36453097e+00]\n",
      " [ 5.08126319e-01  1.33162220e+00  1.20052369e+00 -3.76441292e-01\n",
      "  -5.90776398e-01 -6.31785749e-02 -1.29781478e+00 -1.06369309e+00\n",
      "   1.05237137e+00 -1.75928089e+00]\n",
      " [ 8.72148398e-01 -1.00264475e+00 -7.13250161e-01 -1.30690143e+00\n",
      "  -9.08733202e-01 -4.08621647e-01  1.31051629e+00  8.50185994e-01\n",
      "  -1.06050172e+00  1.03009340e+00]\n",
      " [-6.63170645e-01  8.68952239e-01  1.01660751e+00 -1.80493733e+00\n",
      "   9.51263224e-01  8.97512633e-01 -1.05203757e-01  1.11937408e+00\n",
      "  -4.73548477e-01  3.54996942e-01]\n",
      " [-2.49670942e-01 -1.72415947e+00  8.45832165e-01  8.39850574e-01\n",
      "  -1.34991558e+00  8.85538190e-01 -5.24921941e-01 -2.90019361e-01\n",
      "  -6.65525722e-01  5.80532130e-01]\n",
      " [-1.31706459e+00  1.33717265e+00  8.86759779e-01 -1.61876873e-01\n",
      "  -1.53313233e+00 -1.46803992e+00 -2.42056976e+00 -4.08364703e-01\n",
      "  -7.48479519e-01 -1.03367938e-01]\n",
      " [-1.03006275e-01  5.67638781e-01 -3.56566970e-01  2.80290245e-02\n",
      "  -1.91249275e+00 -5.29083836e-01  4.60862781e-01  4.44595731e-01\n",
      "   3.19173157e-01  1.02981470e+00]\n",
      " [ 7.50638166e-01 -1.18205638e+00 -4.52654213e-01  2.90233937e-01\n",
      "  -9.64782040e-01  1.62502197e+00 -1.01781012e+00 -2.64179135e+00\n",
      "  -1.61676014e+00 -4.25012204e-01]\n",
      " [-9.52625947e-01 -9.40566972e-01  5.07441214e-01  8.73172566e-01\n",
      "   5.26457334e-01 -2.43175413e+00 -3.96881706e-02 -2.65955025e+00\n",
      "   9.42379181e-01 -9.18176244e-01]\n",
      " [-1.12382212e+00  1.26363449e+00 -4.47621932e-01 -1.23820923e+00\n",
      "   1.50331514e+00 -3.72835240e-01  6.98260815e-01 -4.04947567e-02\n",
      "  -9.91872384e-01  3.05595010e-01]\n",
      " [ 7.84575503e-01 -1.69419949e-01 -2.43711660e+00 -3.47240864e-01\n",
      "  -1.04092825e+00 -5.56177922e-01 -1.36308139e+00  1.03103887e+00\n",
      "   1.42475693e+00  9.20458695e-01]\n",
      " [ 7.78332596e-01 -7.95957209e-01  7.42346110e-01 -6.35892579e-01\n",
      "   7.47518863e-01 -7.26268974e-01 -1.12666833e+00  7.53091940e-01\n",
      "   1.20808152e+00 -7.25489782e-01]\n",
      " [-5.64533373e-01 -2.78579053e-01 -1.65175319e+00 -9.00834690e-01\n",
      "   1.00056116e+00  9.88298612e-01 -5.37135188e-01  3.43957507e-01\n",
      "   1.09066954e+00 -1.17502684e-01]\n",
      " [-2.74558496e-01  6.80082882e-01 -4.38816398e-01 -6.51083304e-01\n",
      "   9.41351165e-01 -1.49252742e+00  1.48112916e+00  7.07668301e-01\n",
      "   1.48705981e+00  8.83985847e-01]\n",
      " [ 1.30955106e+00 -6.79560636e-02  1.17875133e+00 -4.48881726e-01\n",
      "  -9.55068431e-01  1.04870189e+00 -4.57448810e-01 -1.02667070e-01\n",
      "   8.52813075e-01  7.17167654e-01]\n",
      " [ 5.15527405e-01 -4.75211227e-01 -2.94400810e-01  9.30985341e-01\n",
      "  -4.43470317e-01 -5.90589790e-01  1.31376969e+00 -1.10635456e+00\n",
      "   3.94265143e-01  6.41169901e-01]\n",
      " [ 1.12788318e+00  4.61430511e-01 -4.47595272e-01  9.44440365e-01\n",
      "   1.11026203e+00 -1.79680249e-01 -8.94838491e-01  1.09682318e+00\n",
      "   7.51122465e-01 -3.81495731e-01]\n",
      " [-1.62204301e-02 -1.52059904e+00 -1.94315278e-01  9.70992124e-01\n",
      "   8.21781177e-01  1.34529464e-01  7.31292637e-01  1.15688250e+00\n",
      "  -1.71281936e+00  6.28384362e-01]\n",
      " [ 1.18503321e+00  1.29958035e+00 -1.29400868e+00  9.06185676e-01\n",
      "   5.52260864e-01 -5.49050747e-01 -1.34074131e-01 -3.20768075e-01\n",
      "  -1.09033278e+00  1.03666985e+00]\n",
      " [-1.18709552e+00  1.54132277e-01 -9.78244412e-01 -1.88229840e-01\n",
      "  -1.16724615e+00  7.35791648e-01 -5.24164377e-01  1.35009523e+00\n",
      "  -6.17700297e-01 -5.44235491e-01]\n",
      " [-6.77158348e-01 -3.22281214e-01 -4.36304821e-01 -1.91591485e+00\n",
      "  -7.08792469e-01 -1.38440443e-01 -5.79330498e-01 -8.10886875e-01\n",
      "   6.91984958e-01  4.93735492e-01]\n",
      " [ 5.02912574e-01  5.40082603e-01 -1.13019215e-01  2.40216800e-01\n",
      "  -1.08602713e+00 -8.71059482e-01  1.28544130e+00 -4.94325716e-01\n",
      "  -7.36839200e-01  1.38936977e+00]\n",
      " [-1.64702729e+00 -2.06954790e-01  1.57911246e+00  1.33982028e+00\n",
      "   6.10536811e-01 -4.63350262e-01 -4.75949148e-01 -1.34853901e+00\n",
      "  -1.79743992e-01  9.65225587e-01]\n",
      " [-1.10554278e+00  9.89035191e-01  8.58897399e-01  6.88384397e-01\n",
      "  -9.32180101e-01 -1.49857252e+00 -2.60890281e-01  4.38135650e-01\n",
      "  -4.72704115e-01  2.60362886e-01]\n",
      " [-2.89362646e-01  6.87216020e-01  1.45822954e-01  8.51234591e-01\n",
      "  -2.60269439e-01  2.89407700e-01  9.24824954e-01 -6.37005976e-02\n",
      "   1.26701691e+00  0.00000000e+00]\n",
      " [ 1.24256186e+00 -5.73544166e-01  1.00900105e+00  4.92380416e-01\n",
      "   3.88694292e-01  8.13102516e-01 -1.20728922e+00  5.31050341e-01\n",
      "   5.38035391e-01  1.20518506e+00]\n",
      " [-1.36185743e+00  9.48212500e-01 -9.82339399e-01 -8.14369272e-01\n",
      "   8.10362120e-01  1.01039350e+00  5.04723835e-01  3.93153841e-01\n",
      "   1.16421494e+00 -1.14086674e+00]\n",
      " [-2.41474739e+00 -2.47973188e+00 -8.85817592e-02 -1.76965017e-01\n",
      "  -6.26647214e-01  5.73118723e-01  6.54693403e-01 -2.84694129e-01\n",
      "  -1.70576131e-01 -5.51892688e-01]\n",
      " [ 1.08981407e+00 -1.13076637e-01 -4.63341669e-01 -1.12225695e+00\n",
      "   7.38729897e-01 -3.16268573e-01  1.25631897e+00  9.89523600e-01\n",
      "  -1.06211125e+00  4.78443764e-01]\n",
      " [ 1.10512673e+00  7.36796123e-01  1.06799441e+00  8.74348504e-01\n",
      "   1.28845696e+00 -5.74208577e-01 -3.92725851e-01 -4.19074080e-01\n",
      "  -1.56288745e+00 -6.19091051e-01]\n",
      " [-1.21681490e+00  3.99932515e-01 -1.28934405e-01 -3.92681129e-01\n",
      "  -1.02532936e+00 -6.04709344e-01 -6.86193699e-01  1.55015819e-01\n",
      "  -2.21661739e+00 -1.40722943e-01]\n",
      " [-9.29514935e-01 -9.05887605e-02 -9.77174962e-01 -3.77925678e-01\n",
      "   1.65556692e+00 -8.37828740e-01 -4.10096679e-01 -1.49276459e+00\n",
      "  -8.13624026e-02 -1.86577318e+00]\n",
      " [-4.42539250e-01  1.41451706e+00  6.05937180e-01 -4.41585722e-01\n",
      "  -1.08656480e+00 -6.40757122e-01 -1.22662455e+00 -7.98073183e-01\n",
      "   8.74849646e-01  7.01781126e-01]\n",
      " [-5.75791753e-01  4.49481617e-01 -8.63410273e-01  9.01059043e-01\n",
      "   9.68823672e-01 -8.54630692e-03 -9.99575391e-02  1.38885362e+00\n",
      "   9.76136076e-02  6.85657662e-01]\n",
      " [ 1.09609766e+00  8.21034571e-01 -1.22294463e+00 -3.65274961e-01\n",
      "   7.98427671e-01  5.16369045e-01 -1.20957582e+00  7.90426498e-01\n",
      "  -1.50128236e+00 -6.76907893e-01]\n",
      " [ 1.48357226e+00 -1.29003518e+00  5.21921638e-01  1.44528500e+00\n",
      "   4.45119653e-01  7.51508506e-01  1.00609212e+00  3.04669724e-01\n",
      "  -1.87385435e+00  7.00672917e-01]\n",
      " [-1.02177028e+00  1.02630294e+00  1.08519063e+00  7.17316401e-01\n",
      "   8.29434407e-01 -6.33110355e-01 -8.13720264e-01  2.42629283e-01\n",
      "  -2.48936149e-01  1.40528130e+00]\n",
      " [ 1.09833904e+00 -1.05684939e+00  8.56226647e-01  5.87348320e-01\n",
      "   2.60770294e-08  4.45125634e-01  1.17552075e+00  8.72462334e-01\n",
      "   9.06128818e-01 -4.88865517e-01]\n",
      " [-7.98574037e-01  7.64952899e-01  8.82807890e-01 -1.63567608e+00\n",
      "  -4.96172888e-02 -1.43277522e+00  7.45076197e-01 -1.76892829e+00\n",
      "  -1.22078997e-01 -2.71359324e-01]\n",
      " [ 1.48772002e-01  6.84333682e-01 -1.22537625e+00 -6.72073397e-01\n",
      "   1.03440027e+00  1.50486164e+00  1.27420307e+00 -5.40474464e-01\n",
      "  -5.05455205e-01  1.19959232e+00]\n",
      " [ 6.49411018e-01  5.50226288e-01  6.76108204e-01 -2.25593130e-01\n",
      "   3.59182711e-01  5.27961820e-01 -4.19846703e-01 -1.35067489e+00\n",
      "  -1.07865149e+00  9.96707607e-01]\n",
      " [-1.68632875e-01  1.64787349e+00 -5.38428749e-02  1.25863019e+00\n",
      "  -9.66798941e-01 -1.42734714e+00  1.02903119e+00  1.36919506e+00\n",
      "  -1.37608291e+00  1.06671259e+00]\n",
      " [ 6.38854514e-01  1.36869722e+00 -1.53296768e+00 -1.10874393e+00\n",
      "  -2.02442724e+00  8.44025586e-01 -2.33184154e+00  6.13770574e-01\n",
      "   5.13576273e-01  1.42211089e+00]\n",
      " [ 1.00184705e+00  8.14331307e-01 -9.81905824e-01  1.42223368e+00\n",
      "   1.22810820e+00 -6.37266336e-01 -8.97258705e-02  7.91368585e-01\n",
      "   7.61117284e-01 -1.14649258e+00]\n",
      " [ 7.19062477e-01 -1.25509811e+00 -1.04287107e-01  8.51294732e-01\n",
      "   8.35636248e-01 -1.92166382e+00 -5.36799025e-01  1.06928732e+00\n",
      "   3.50032670e-01 -5.55719531e-02]\n",
      " [ 7.77098402e-01  8.44467250e-01 -2.13774497e+00 -3.68906603e-01\n",
      "  -1.54826898e+00  1.29785918e+00  2.36815849e-01 -1.28727521e+00\n",
      "  -8.47044344e-01  1.07275111e+00]\n",
      " [ 3.99687600e-01 -6.22980940e-01  9.41709331e-01  9.66695551e-01\n",
      "  -4.36536356e-01 -7.22670937e-01 -1.21775557e-01  1.36580931e+00\n",
      "  -5.91596958e-01 -3.71526695e-01]\n",
      " [ 5.60227084e-01  3.09894488e-01 -1.48382195e+00 -1.15060695e-01\n",
      "  -2.37271657e-01  1.16174708e+00  1.07417227e+00  9.53203690e-01\n",
      "  -1.81844450e-01 -1.68644143e+00]\n",
      " [-1.24312907e+00  7.91380282e-01 -6.54712728e-01 -4.78968586e-01\n",
      "   4.85238795e-01 -3.95132917e-01  1.33296268e+00 -1.69322075e+00\n",
      "   4.60391089e-01 -8.54373349e-01]\n",
      " [ 1.23955942e+00  3.25484573e-01  1.28481531e+00  7.61792063e-01\n",
      "   4.99885326e-01  1.01856556e+00 -2.13296331e+00 -8.98672953e-01\n",
      "  -3.24521310e-01 -5.60928315e-01]\n",
      " [ 7.63038092e-01  6.28050321e-01  1.07615919e+00  9.26571075e-01\n",
      "   3.50593984e-01  1.53162309e+00 -8.77295063e-01 -1.56806216e-01\n",
      "  -1.98781256e-01 -2.05171515e-01]\n",
      " [-7.26580454e-01 -1.13956958e+00 -8.84134455e-02 -1.02808147e+00\n",
      "  -1.63009711e+00 -7.58942229e-01  8.93895354e-01 -5.29496615e-01\n",
      "   8.84152327e-01 -7.35047576e-02]\n",
      " [-9.61941708e-01  9.18362021e-01  9.52800141e-01 -7.39225857e-01\n",
      "  -3.40112664e-02  5.87434760e-01 -7.83545718e-02  9.27306491e-01\n",
      "   1.13751592e+00 -1.98547733e+00]\n",
      " [ 1.45653087e+00 -1.87431326e+00  1.06148100e+00 -7.95128430e-01\n",
      "   9.25207006e-01  8.77585892e-01 -8.60204069e-01  1.39475733e+00\n",
      "  -1.93429355e-01 -1.28522262e+00]\n",
      " [ 8.29195330e-01  1.36428349e-01  6.33681830e-01  7.24794528e-01\n",
      "   6.90399698e-01 -6.40434302e-02 -5.83213977e-01  6.58706181e-01\n",
      "  -9.14013735e-02  1.09974258e+00]\n",
      " [ 1.13507406e+00 -1.09177760e+00  8.91879115e-01 -7.17450424e-01\n",
      "   4.79077146e-01 -1.61146188e+00  3.49519173e-01  9.98022825e-01\n",
      "  -1.35481780e-01  1.11729231e+00]\n",
      " [-4.41527677e-01  1.04335526e+00  2.73934307e-01  8.43617874e-01\n",
      "  -1.27833256e+00  7.06303461e-01 -1.40280156e+00 -7.74078423e-01\n",
      "  -6.40118529e-01 -6.42232746e-01]\n",
      " [-8.83219689e-01 -1.34675298e+00  3.99723321e-01  1.05669394e+00\n",
      "  -1.37782446e+00  1.02730817e+00  1.30211929e+00 -8.89940988e-01\n",
      "   1.21543448e+00  8.22616562e-01]\n",
      " [-1.52448747e-01  4.89156324e-01 -8.36116094e-01 -7.68023529e-01\n",
      "  -1.24188789e+00  1.18679155e+00 -3.88875195e-01 -3.11738139e-01\n",
      "  -5.42173385e-01  7.03556400e-01]\n",
      " [-6.23859110e-01 -1.45597977e+00 -1.90103990e+00  1.03017097e+00\n",
      "  -1.96618230e-01  5.56697970e-01 -1.15341646e+00  6.33916836e-01\n",
      "   1.09133718e+00 -2.26606009e+00]\n",
      " [-4.49747511e-01  6.52104033e-01 -1.98488123e-01 -3.86734573e-01\n",
      "   1.16306012e+00 -2.08403613e+00 -8.29111773e-02  7.92875191e-01\n",
      "  -6.67235955e-01 -1.69360883e+00]\n",
      " [-5.12723858e-03  5.14775004e-01  5.98729361e-01 -1.38493923e-01\n",
      "  -2.54907539e+00 -8.92488862e-01 -4.08779477e-02 -1.28546541e+00\n",
      "   1.07622096e+00  6.74577033e-01]\n",
      " [ 6.48563659e-01  7.45085271e-01 -1.17489303e+00 -7.96784996e-02\n",
      "   8.19838440e-01 -1.28573067e+00 -3.19949955e-01 -1.61730719e+00\n",
      "   1.19965358e+00  5.85582046e-01]\n",
      " [-8.38548345e-01  1.25399120e-01  1.95768732e-01 -2.92698880e-01\n",
      "   6.90297563e-01  9.67912841e-01  1.26123045e+00 -9.04336098e-01\n",
      "   2.44493035e-01 -1.40134341e+00]\n",
      " [ 1.29593811e+00  1.29061240e+00 -1.89708991e-01  1.35761212e-02\n",
      "   1.13644815e+00 -5.16902786e-01  2.47283826e-01  1.22099760e+00\n",
      "   1.24080444e+00 -7.15638789e-01]\n",
      " [-2.49873021e+00 -9.75205991e-01 -2.05674358e-01  1.28005305e+00\n",
      "   1.39350795e+00  6.77029415e-01  1.31903939e+00  8.73603725e-01\n",
      "  -7.36076212e-01 -1.33089086e+00]\n",
      " [-8.44890788e-01  6.82615168e-01 -4.34563635e-01  1.01936390e+00\n",
      "  -6.12623138e-01 -8.20915628e-01  1.05594898e+00  1.30119910e-01\n",
      "  -1.67558305e+00  1.05891588e+00]\n",
      " [ 1.59242403e+00 -1.13178767e+00  0.00000000e+00  1.09913208e+00\n",
      "  -9.14611621e-01  5.35221570e-01 -6.56781129e-01  6.83878770e-01\n",
      "   7.10484257e-01  1.07849563e+00]\n",
      " [-1.59124308e+00 -2.42026616e-01 -9.70993168e-01 -6.88413056e-02\n",
      "   8.65184533e-01 -1.72393373e-01  9.51125652e-01  9.98312286e-01\n",
      "  -5.51055049e-01 -7.44214769e-01]\n",
      " [ 1.12499756e+00 -2.77671768e-01 -1.23098650e+00  4.57969215e-01\n",
      "  -9.68623570e-01 -2.37483458e-01  1.04940918e+00 -4.89341353e-01\n",
      "  -2.58381026e-01 -8.04148805e-01]\n",
      " [ 5.63840175e-01 -1.20447266e+00  4.49357770e-01 -1.40228203e+00\n",
      "  -4.04192375e-01 -1.56169534e+00  0.00000000e+00  2.66744513e-01\n",
      "   2.27744429e-01 -1.62815048e-01]\n",
      " [ 5.67730572e-02 -4.68207349e-01  1.24656610e+00  9.93090982e-01\n",
      "   1.07348322e+00 -5.14048226e-01  2.86261495e-01  8.16619779e-01\n",
      "  -4.76829878e-01  1.05911668e+00]\n",
      " [ 1.50824581e-01 -1.83071841e+00  9.92414837e-01 -1.12908419e+00\n",
      "   9.20420523e-01  1.06371466e+00  3.95328418e-01  4.81846011e-01\n",
      "  -4.97582852e-02  1.44492823e+00]\n",
      " [ 1.06208813e+00  9.34652167e-01 -3.05229726e-01 -2.10164482e+00\n",
      "   1.09091272e+00  9.85584786e-01  8.92919947e-01 -1.19798288e+00\n",
      "   6.14175112e-01 -9.86370348e-01]\n",
      " [ 3.41927734e-01  1.15840573e+00  1.38468203e+00  1.27266414e+00\n",
      "   5.54593209e-01  8.34586050e-01  6.04519848e-01  1.07311050e+00\n",
      "  -5.76457560e-01  8.33610034e-01]\n",
      " [ 1.16654987e+00 -8.49000593e-01 -3.14235917e-01 -1.57053927e+00\n",
      "  -1.46830076e+00  5.03784380e-01 -1.12884406e+00 -7.68301439e-01\n",
      "   1.46018325e+00 -9.77367162e-01]\n",
      " [-1.39829504e-02 -9.47739237e-01  1.81219834e+00  1.35153746e+00\n",
      "  -6.85309666e-02  7.30965707e-01 -1.30171808e+00 -4.70528333e-02\n",
      "   4.21884386e-01  9.60868288e-01]\n",
      " [-7.45842711e-01  8.02315532e-01  7.62513582e-01 -1.92298491e-01\n",
      "  -1.63560836e+00  6.36099288e-01  7.85024110e-01  5.98564579e-01\n",
      "   1.31517020e+00 -1.08924083e+00]\n",
      " [ 8.45066746e-01 -1.54874269e+00 -8.60363911e-01 -2.07695809e+00\n",
      "   1.06124947e+00  9.40083950e-01 -1.22288509e+00  4.53356262e-01\n",
      "  -8.60015291e-01  7.33303605e-01]\n",
      " [-1.54542847e-01 -7.89115793e-01  1.16379438e+00 -1.36706508e+00\n",
      "  -6.56738927e-01  4.64276748e-01 -1.17443179e+00  7.36053812e-01\n",
      "   2.24516185e-01 -5.50231673e-01]\n",
      " [-6.48272292e-01  6.89479571e-01 -1.41835048e+00 -6.92031180e-01\n",
      "   1.02405391e+00 -2.86696902e-01  6.72315313e-01 -4.40190031e-01\n",
      "  -6.43815145e-01 -2.03182468e-01]\n",
      " [ 7.21892726e-01 -9.90603417e-01  1.27307344e+00 -8.72205570e-01\n",
      "   1.28246508e+00  1.37022464e+00 -5.93261108e-01 -5.16320921e-01\n",
      "   6.29916423e-01  7.25127125e-01]\n",
      " [ 5.06190476e-01 -1.34384637e-01 -5.36526986e-01  1.15971743e+00\n",
      "  -9.05032720e-01 -1.28761374e-01  1.03912352e+00 -1.64368767e+00\n",
      "  -1.22213238e-01  5.80340231e-01]\n",
      " [-1.07630177e-01 -5.46400252e-01  7.46087730e-01  6.25140321e-01\n",
      "   8.65975142e-01  3.07422662e-01  5.26789138e-01  6.48442786e-01\n",
      "   1.01741050e+00  5.48754627e-01]\n",
      " [ 7.69171561e-01 -1.82270621e+00 -1.08075257e+00  1.29342607e+00\n",
      "  -6.23082106e-01 -1.94005483e+00  3.95510624e-01 -7.23404573e-01\n",
      "   8.02932185e-01  6.81566613e-01]]\n",
      "Exponentials of first 5 rows:\n",
      " [[0.13343956 0.33636538 1.92755186 0.37425177 1.238283   1.75031188\n",
      "  1.14049729 0.30485077 1.04820637 0.08268707]\n",
      " [1.75337817 1.0682713  2.23572857 1.90414686 2.1606933  0.57595698\n",
      "  0.29466343 0.27713927 0.38982304 0.66999368]\n",
      " [0.25425518 3.39186786 0.45119697 0.49201238 1.0376633  0.28250456\n",
      "  0.17202911 1.44014857 1.4503831  0.31023413]\n",
      " [0.54872841 1.0560371  0.67516045 0.43537155 1.03375953 1.13442465\n",
      "  0.79105008 0.98334168 0.36920516 0.35075693]\n",
      " [0.38252808 0.57212903 2.70652217 1.80648249 0.41795025 8.89099168\n",
      "  3.74241016 0.68929327 0.21686339 2.98876539]]\n"
     ]
    }
   ],
   "execution_count": 170
  },
  {
   "metadata": {
    "ExecuteTime": {
     "end_time": "2025-10-19T05:15:52.402833Z",
     "start_time": "2025-10-19T05:15:52.394747Z"
    }
   },
   "cell_type": "code",
   "source": [
    "# Compute 75th percentile for each column and print the number of such \"high\" values\n",
    "q75 = np.percentile(data_standard, 75, axis=0)\n",
    "high_val_mask = data_standard > q75\n",
    "print(\"Number of high values:\", np.sum(high_val_mask))\n",
    "\n",
    "# Replace values below 25th percentile with 25th percentile value\n",
    "q25 = np.percentile(data_standard, 25, axis=0)\n",
    "data_standard = np.clip(data_standard, q25, None)"
   ],
   "id": "47db79cc3c06bdbe",
   "outputs": [
    {
     "name": "stdout",
     "output_type": "stream",
     "text": [
      "Number of high values: 250\n"
     ]
    }
   ],
   "execution_count": 171
  },
  {
   "metadata": {
    "ExecuteTime": {
     "end_time": "2025-10-19T05:15:52.453494Z",
     "start_time": "2025-10-19T05:15:52.447426Z"
    }
   },
   "cell_type": "code",
   "source": [
    "# Column-wise statistics\n",
    "print(\"Column Mean:\\n\", np.mean(data_standard, axis=0))\n",
    "print(\"Column Median:\\n\", np.median(data_standard, axis=0))\n",
    "print(\"Column Variance:\\n\", np.var(data_standard, axis=0))\n",
    "print(\"Column Std. deviation\", np.std(data_standard, axis=0))\n",
    "\n",
    "# Overall mean\n",
    "print(\"Overall Mean:\\n\", np.mean(data_standard))\n",
    "\n",
    "# Column-wise min/max\n",
    "print(\"Column Min/Max:\\n\\t-Min:\", np.min(data_standard, axis=0), \"\\n\\t-Max:\", np.max(data_standard, axis=0))"
   ],
   "id": "359c78915c7cc927",
   "outputs": [
    {
     "name": "stdout",
     "output_type": "stream",
     "text": [
      "Column Mean:\n",
      " [0.12275655 0.12775972 0.12968015 0.13067808 0.10457469 0.15850357\n",
      " 0.1663925  0.18082537 0.1372317  0.14089549]\n",
      "Column Median:\n",
      " [-0.00955509  0.03914004 -0.09230764 -0.0973696   0.12596418 -0.03586244\n",
      " -0.05961626  0.08198814 -0.08638189  0.01852567]\n",
      "Column Variance:\n",
      " [0.68635815 0.67811891 0.68428924 0.6824156  0.71980344 0.62159366\n",
      " 0.60881231 0.5448176  0.68336066 0.64059016]\n",
      "Column Std. deviation [0.82846735 0.82347976 0.82721777 0.8260845  0.84841231 0.78841211\n",
      " 0.78026426 0.7381176  0.82665631 0.80036877]\n",
      "Overall Mean:\n",
      " 0.1399297827574202\n",
      "Column Min/Max:\n",
      "\t-Min: [-0.75708959 -0.79082615 -0.73390044 -0.72289428 -0.88055283 -0.59411968\n",
      " -0.60914111 -0.61215047 -0.66595328 -0.71810154] \n",
      "\t-Max: [2.53581429 2.71548702 3.28406283 2.38832239 2.74090183 2.64069642\n",
      " 2.19374359 1.94534802 2.46658181 2.0878176 ]\n"
     ]
    }
   ],
   "execution_count": 172
  }
 ],
 "metadata": {
  "kernelspec": {
   "display_name": "Python 3",
   "language": "python",
   "name": "python3"
  },
  "language_info": {
   "codemirror_mode": {
    "name": "ipython",
    "version": 2
   },
   "file_extension": ".py",
   "mimetype": "text/x-python",
   "name": "python",
   "nbconvert_exporter": "python",
   "pygments_lexer": "ipython2",
   "version": "2.7.6"
  }
 },
 "nbformat": 4,
 "nbformat_minor": 5
}
